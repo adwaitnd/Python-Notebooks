{
 "cells": [
  {
   "cell_type": "code",
   "execution_count": 8,
   "metadata": {
    "ExecuteTime": {
     "end_time": "2020-06-17T12:58:53.158715Z",
     "start_time": "2020-06-17T12:58:53.140194Z"
    }
   },
   "outputs": [
    {
     "name": "stdout",
     "output_type": "stream",
     "text": [
      "text 7.txt: modified 2020-06-11 18:52:46\n",
      "text 12.txt: modified 2020-06-11 19:01:40\n",
      "text 13.txt: modified 2020-06-11 19:03:40\n",
      "text 6.txt: modified 2020-06-11 18:46:02\n",
      "text 4.txt: modified 2020-06-11 18:43:30\n",
      "text 11.txt: modified 2020-06-11 18:59:34\n",
      "text 39.txt: modified 2020-06-13 17:56:54\n",
      "text 38.txt: modified 2020-06-13 17:55:44\n",
      "text 10.txt: modified 2020-06-11 18:57:02\n",
      "text 5.txt: modified 2020-06-11 18:44:42\n",
      "text 28.txt: modified 2020-06-13 17:41:38\n",
      "text 14.txt: modified 2020-06-11 19:04:18\n",
      "text 15.txt: modified 2020-06-11 19:05:16\n",
      "text 29.txt: modified 2020-06-13 17:42:44\n",
      "text 2.txt: modified 2020-06-11 18:40:28\n",
      "text 17.txt: modified 2020-06-11 19:08:24\n",
      "text 16.txt: modified 2020-06-11 19:07:44\n",
      "text 3.txt: modified 2020-06-11 18:41:52\n",
      "text 48.txt: modified 2020-06-11 18:38:20\n",
      "text 44.txt: modified 2020-06-13 18:02:50\n",
      "text 45.txt: modified 2020-06-13 18:03:30\n",
      "text 47.txt: modified 2020-06-11 18:38:20\n",
      "text 46.txt: modified 2020-06-13 18:04:30\n",
      "text 42.txt: modified 2020-06-13 18:00:46\n",
      "text 43.txt: modified 2020-06-13 18:01:32\n",
      "text 41.txt: modified 2020-06-13 17:59:42\n",
      "text 40.txt: modified 2020-06-13 17:59:06\n",
      "text.txt: modified 2020-06-11 18:38:20\n",
      "text 33.txt: modified 2020-06-13 17:48:50\n",
      "text 27.txt: modified 2020-06-13 17:40:58\n",
      "text 26.txt: modified 2020-06-13 17:40:10\n",
      "text 32.txt: modified 2020-06-13 17:45:42\n",
      "text 24.txt: modified 2020-06-13 17:39:06\n",
      "text 30.txt: modified 2020-06-13 17:44:14\n",
      "text 18.txt: modified 2020-06-11 19:09:32\n",
      "text 19.txt: modified 2020-06-11 19:10:16\n",
      "text 31.txt: modified 2020-06-13 17:44:38\n",
      "text 25.txt: modified 2020-06-13 17:39:32\n",
      "text 8.txt: modified 2020-06-11 18:54:30\n",
      "text 21.txt: modified 2020-06-11 19:13:02\n",
      "text 35.txt: modified 2020-06-13 17:51:04\n",
      "text 34.txt: modified 2020-06-13 17:49:42\n",
      "text 20.txt: modified 2020-06-11 19:11:40\n",
      "text 9.txt: modified 2020-06-11 18:56:04\n",
      "text 36.txt: modified 2020-06-13 17:53:26\n",
      "text 22.txt: modified 2020-06-11 19:14:08\n",
      "text 23.txt: modified 2020-06-13 17:37:22\n",
      "text 37.txt: modified 2020-06-13 17:54:52\n"
     ]
    }
   ],
   "source": [
    "import os\n",
    "import datetime\n",
    "\n",
    "# This will get the modification time of all files in a directory in UTC time\n",
    "# and then print that in a user readable string\n",
    "dirpath = \"../data/Location data archive\"\n",
    "filenames = os.listdir(dirpath)\n",
    "for filename in filenames:\n",
    "    fullpath = os.path.join(dirpath, filename)\n",
    "    mtime = os.path.getmtime(fullpath)  # mtime is UTC time\n",
    "    utc = datetime.datetime.utcfromtimestamp(mtime)\n",
    "    print(\"{}: modified {}\".format(filename, utc))"
   ]
  },
  {
   "cell_type": "code",
   "execution_count": 11,
   "metadata": {
    "ExecuteTime": {
     "end_time": "2020-06-17T13:03:17.960561Z",
     "start_time": "2020-06-17T13:03:17.951472Z"
    }
   },
   "outputs": [
    {
     "name": "stdout",
     "output_type": "stream",
     "text": [
      "1591901739.0\n",
      "UTC\n",
      "0.0\n",
      "UTC\n",
      "1970-01-01 00:00:00\n",
      "None\n"
     ]
    }
   ],
   "source": [
    "import datetime\n",
    "\n",
    "# given a string filename of SDR data capture in UTC format, get the unix timestamp\n",
    "def filename2ctime(filename):\n",
    "    dtstr = filename.split(\"_\",2)[2].split(\".\")[0]\n",
    "    dtobj = datetime.datetime.strptime(dtstr, \"%Y-%m-%d_%H-%M-%S\")\n",
    "    dtobjutc = dtobj.replace(tzinfo=datetime.timezone.utc)\n",
    "    return dtobjutc.timestamp()\n",
    "\n",
    "\n",
    "\n",
    "dataFile1 = \"exp1_904.750M_2020-06-11_18-55-39.000.dat\"\n",
    "print(filename2ctime(dataFile1))\n",
    "dataFile2 = \"exp1_904.750M_1970-01-01_00-00-00.000.dat\"\n",
    "fdt2 = filename2ctime(dataFile2)\n",
    "print(fdt2.timestamp())\n",
    "print(fdt2.tzinfo)\n",
    "\n",
    "\n",
    "utc = datetime.datetime.utcfromtimestamp(0.0)\n",
    "print(utc)\n",
    "print(utc.tzinfo)"
   ]
  },
  {
   "cell_type": "code",
   "execution_count": 30,
   "metadata": {
    "ExecuteTime": {
     "end_time": "2020-06-17T20:41:57.713930Z",
     "start_time": "2020-06-17T20:41:57.695372Z"
    }
   },
   "outputs": [
    {
     "name": "stdout",
     "output_type": "stream",
     "text": [
      "text 7.txt: modified Thu Jun 11 18:52:46 2020\n",
      "text 12.txt: modified Thu Jun 11 19:01:40 2020\n",
      "text 13.txt: modified Thu Jun 11 19:03:40 2020\n",
      "text 6.txt: modified Thu Jun 11 18:46:02 2020\n",
      "text 4.txt: modified Thu Jun 11 18:43:30 2020\n",
      "text 11.txt: modified Thu Jun 11 18:59:34 2020\n",
      "text 39.txt: modified Sat Jun 13 17:56:54 2020\n",
      "text 38.txt: modified Sat Jun 13 17:55:44 2020\n",
      "text 10.txt: modified Thu Jun 11 18:57:02 2020\n",
      "text 5.txt: modified Thu Jun 11 18:44:42 2020\n",
      "text 28.txt: modified Sat Jun 13 17:41:38 2020\n",
      "text 14.txt: modified Thu Jun 11 19:04:18 2020\n",
      "text 15.txt: modified Thu Jun 11 19:05:16 2020\n",
      "text 29.txt: modified Sat Jun 13 17:42:44 2020\n",
      "text 2.txt: modified Thu Jun 11 18:40:28 2020\n",
      "text 17.txt: modified Thu Jun 11 19:08:24 2020\n",
      "text 16.txt: modified Thu Jun 11 19:07:44 2020\n",
      "text 3.txt: modified Thu Jun 11 18:41:52 2020\n",
      "text 48.txt: modified Thu Jun 11 18:38:20 2020\n",
      "text 44.txt: modified Sat Jun 13 18:02:50 2020\n",
      "text 45.txt: modified Sat Jun 13 18:03:30 2020\n",
      "text 47.txt: modified Thu Jun 11 18:38:20 2020\n",
      "text 46.txt: modified Sat Jun 13 18:04:30 2020\n",
      "text 42.txt: modified Sat Jun 13 18:00:46 2020\n",
      "text 43.txt: modified Sat Jun 13 18:01:32 2020\n",
      "text 41.txt: modified Sat Jun 13 17:59:42 2020\n",
      "text 40.txt: modified Sat Jun 13 17:59:06 2020\n",
      "text.txt: modified Thu Jun 11 18:38:20 2020\n",
      "text 33.txt: modified Sat Jun 13 17:48:50 2020\n",
      "text 27.txt: modified Sat Jun 13 17:40:58 2020\n",
      "text 26.txt: modified Sat Jun 13 17:40:10 2020\n",
      "text 32.txt: modified Sat Jun 13 17:45:42 2020\n",
      "text 24.txt: modified Sat Jun 13 17:39:06 2020\n",
      "text 30.txt: modified Sat Jun 13 17:44:14 2020\n",
      "text 18.txt: modified Thu Jun 11 19:09:32 2020\n",
      "text 19.txt: modified Thu Jun 11 19:10:16 2020\n",
      "text 31.txt: modified Sat Jun 13 17:44:38 2020\n",
      "text 25.txt: modified Sat Jun 13 17:39:32 2020\n",
      "text 8.txt: modified Thu Jun 11 18:54:30 2020\n",
      "text 21.txt: modified Thu Jun 11 19:13:02 2020\n",
      "text 35.txt: modified Sat Jun 13 17:51:04 2020\n",
      "text 34.txt: modified Sat Jun 13 17:49:42 2020\n",
      "text 20.txt: modified Thu Jun 11 19:11:40 2020\n",
      "text 9.txt: modified Thu Jun 11 18:56:04 2020\n",
      "text 36.txt: modified Sat Jun 13 17:53:26 2020\n",
      "text 22.txt: modified Thu Jun 11 19:14:08 2020\n",
      "text 23.txt: modified Sat Jun 13 17:37:22 2020\n",
      "text 37.txt: modified Sat Jun 13 17:54:52 2020\n"
     ]
    }
   ],
   "source": [
    "def ctime2utcstr(t):\n",
    "    dt = datetime.datetime.utcfromtimestamp(t)\n",
    "    return datetime.datetime.strftime(dt, \"%c\")\n",
    "\n",
    "def filename2ctime(filename):\n",
    "    dtstr = filename.split(\"_\",2)[2].split(\".\")[0]\n",
    "    dtobj = datetime.datetime.strptime(dtstr, \"%Y-%m-%d_%H-%M-%S\")\n",
    "    dtobjutc = dtobj.replace(tzinfo=datetime.timezone.utc)\n",
    "    return dtobjutc.timestamp()\n",
    "\n",
    "def fileModTime(filename):\n",
    "    return os.path.getmtime(filename)  # UTC time as a float\n",
    "\n",
    "dirpath = \"../data/Location data archive\"\n",
    "filenames = os.listdir(dirpath)\n",
    "for filename in filenames:\n",
    "    fullpath = os.path.join(dirpath, filename)\n",
    "    mtime = fileModTime(fullpath)  # mtime is UTC time\n",
    "    s = ctime2utcstr(mtime)\n",
    "    print(\"{}: modified {}\".format(filename, s))\n",
    "\n",
    "# for a given directory, find the file modification\n",
    "# time of each file inside and provide a list of tuples\n",
    "# with modification times & WGS coordinates"
   ]
  },
  {
   "cell_type": "code",
   "execution_count": 33,
   "metadata": {
    "ExecuteTime": {
     "end_time": "2020-06-17T20:54:37.521216Z",
     "start_time": "2020-06-17T20:54:37.512575Z"
    }
   },
   "outputs": [
    {
     "name": "stdout",
     "output_type": "stream",
     "text": [
      "40.44239,-79.94807\n"
     ]
    }
   ],
   "source": [
    "fname = \"../data/Location data archive/text 4.txt\"\n",
    "def getWGScoord(fname):\n",
    "    coords = None\n",
    "    with open(fname, 'r') as f:\n",
    "        # skip the first 11 lines\n",
    "        for _ in range(11):\n",
    "            f.readline()\n",
    "        # the last line is a string with coordinates\n",
    "        coords = f.readline()\n",
    "        f.close()\n",
    "    return coords"
   ]
  },
  {
   "cell_type": "code",
   "execution_count": 25,
   "metadata": {
    "ExecuteTime": {
     "end_time": "2020-06-17T20:11:03.973906Z",
     "start_time": "2020-06-17T20:11:03.936246Z"
    }
   },
   "outputs": [
    {
     "name": "stdout",
     "output_type": "stream",
     "text": [
      "[(1.0, 'hello'), (1.5, 'maybe'), (2.0, 'world'), (2.0, 'meh')]\n"
     ]
    },
    {
     "ename": "TypeError",
     "evalue": "data type not understood",
     "output_type": "error",
     "traceback": [
      "\u001b[0;31m---------------------------------------------------------------------------\u001b[0m",
      "\u001b[0;31mValueError\u001b[0m                                Traceback (most recent call last)",
      "\u001b[0;32m~/anaconda3/lib/python3.7/site-packages/pandas/core/dtypes/common.py\u001b[0m in \u001b[0;36mpandas_dtype\u001b[0;34m(dtype)\u001b[0m\n\u001b[1;32m   2049\u001b[0m     \u001b[0;32mtry\u001b[0m\u001b[0;34m:\u001b[0m\u001b[0;34m\u001b[0m\u001b[0;34m\u001b[0m\u001b[0m\n\u001b[0;32m-> 2050\u001b[0;31m         \u001b[0mnpdtype\u001b[0m \u001b[0;34m=\u001b[0m \u001b[0mnp\u001b[0m\u001b[0;34m.\u001b[0m\u001b[0mdtype\u001b[0m\u001b[0;34m(\u001b[0m\u001b[0mdtype\u001b[0m\u001b[0;34m)\u001b[0m\u001b[0;34m\u001b[0m\u001b[0;34m\u001b[0m\u001b[0m\n\u001b[0m\u001b[1;32m   2051\u001b[0m     \u001b[0;32mexcept\u001b[0m \u001b[0mException\u001b[0m\u001b[0;34m:\u001b[0m\u001b[0;34m\u001b[0m\u001b[0;34m\u001b[0m\u001b[0m\n",
      "\u001b[0;32m~/anaconda3/lib/python3.7/site-packages/numpy/core/_internal.py\u001b[0m in \u001b[0;36m_usefields\u001b[0;34m(adict, align)\u001b[0m\n\u001b[1;32m     63\u001b[0m     \u001b[0;32mif\u001b[0m \u001b[0mnames\u001b[0m \u001b[0;32mis\u001b[0m \u001b[0;32mNone\u001b[0m\u001b[0;34m:\u001b[0m\u001b[0;34m\u001b[0m\u001b[0;34m\u001b[0m\u001b[0m\n\u001b[0;32m---> 64\u001b[0;31m         \u001b[0mnames\u001b[0m\u001b[0;34m,\u001b[0m \u001b[0mformats\u001b[0m\u001b[0;34m,\u001b[0m \u001b[0moffsets\u001b[0m\u001b[0;34m,\u001b[0m \u001b[0mtitles\u001b[0m \u001b[0;34m=\u001b[0m \u001b[0m_makenames_list\u001b[0m\u001b[0;34m(\u001b[0m\u001b[0madict\u001b[0m\u001b[0;34m,\u001b[0m \u001b[0malign\u001b[0m\u001b[0;34m)\u001b[0m\u001b[0;34m\u001b[0m\u001b[0;34m\u001b[0m\u001b[0m\n\u001b[0m\u001b[1;32m     65\u001b[0m     \u001b[0;32melse\u001b[0m\u001b[0;34m:\u001b[0m\u001b[0;34m\u001b[0m\u001b[0;34m\u001b[0m\u001b[0m\n",
      "\u001b[0;32m~/anaconda3/lib/python3.7/site-packages/numpy/core/_internal.py\u001b[0m in \u001b[0;36m_makenames_list\u001b[0;34m(adict, align)\u001b[0m\n\u001b[1;32m     33\u001b[0m         \u001b[0;32mif\u001b[0m \u001b[0;32mnot\u001b[0m \u001b[0misinstance\u001b[0m\u001b[0;34m(\u001b[0m\u001b[0mobj\u001b[0m\u001b[0;34m,\u001b[0m \u001b[0mtuple\u001b[0m\u001b[0;34m)\u001b[0m \u001b[0;32mor\u001b[0m \u001b[0mn\u001b[0m \u001b[0;32mnot\u001b[0m \u001b[0;32min\u001b[0m \u001b[0;34m[\u001b[0m\u001b[0;36m2\u001b[0m\u001b[0;34m,\u001b[0m \u001b[0;36m3\u001b[0m\u001b[0;34m]\u001b[0m\u001b[0;34m:\u001b[0m\u001b[0;34m\u001b[0m\u001b[0;34m\u001b[0m\u001b[0m\n\u001b[0;32m---> 34\u001b[0;31m             \u001b[0;32mraise\u001b[0m \u001b[0mValueError\u001b[0m\u001b[0;34m(\u001b[0m\u001b[0;34m\"entry not a 2- or 3- tuple\"\u001b[0m\u001b[0;34m)\u001b[0m\u001b[0;34m\u001b[0m\u001b[0;34m\u001b[0m\u001b[0m\n\u001b[0m\u001b[1;32m     35\u001b[0m         \u001b[0;32mif\u001b[0m \u001b[0;34m(\u001b[0m\u001b[0mn\u001b[0m \u001b[0;34m>\u001b[0m \u001b[0;36m2\u001b[0m\u001b[0;34m)\u001b[0m \u001b[0;32mand\u001b[0m \u001b[0;34m(\u001b[0m\u001b[0mobj\u001b[0m\u001b[0;34m[\u001b[0m\u001b[0;36m2\u001b[0m\u001b[0;34m]\u001b[0m \u001b[0;34m==\u001b[0m \u001b[0mfname\u001b[0m\u001b[0;34m)\u001b[0m\u001b[0;34m:\u001b[0m\u001b[0;34m\u001b[0m\u001b[0;34m\u001b[0m\u001b[0m\n",
      "\u001b[0;31mValueError\u001b[0m: entry not a 2- or 3- tuple",
      "\nDuring handling of the above exception, another exception occurred:\n",
      "\u001b[0;31mTypeError\u001b[0m                                 Traceback (most recent call last)",
      "\u001b[0;32m<ipython-input-25-629e62539c84>\u001b[0m in \u001b[0;36m<module>\u001b[0;34m\u001b[0m\n\u001b[1;32m      5\u001b[0m \u001b[0mprint\u001b[0m\u001b[0;34m(\u001b[0m\u001b[0md\u001b[0m\u001b[0;34m)\u001b[0m\u001b[0;34m\u001b[0m\u001b[0;34m\u001b[0m\u001b[0m\n\u001b[1;32m      6\u001b[0m \u001b[0;34m\u001b[0m\u001b[0m\n\u001b[0;32m----> 7\u001b[0;31m \u001b[0mdf\u001b[0m \u001b[0;34m=\u001b[0m \u001b[0mpd\u001b[0m\u001b[0;34m.\u001b[0m\u001b[0mDataFrame\u001b[0m\u001b[0;34m(\u001b[0m\u001b[0md\u001b[0m\u001b[0;34m,\u001b[0m \u001b[0mdtype\u001b[0m\u001b[0;34m=\u001b[0m\u001b[0;34m{\u001b[0m\u001b[0;34m'ctime'\u001b[0m\u001b[0;34m:\u001b[0m\u001b[0;34m'float64'\u001b[0m\u001b[0;34m,\u001b[0m \u001b[0;34m'data'\u001b[0m\u001b[0;34m:\u001b[0m\u001b[0;34m'object'\u001b[0m\u001b[0;34m}\u001b[0m\u001b[0;34m)\u001b[0m\u001b[0;34m\u001b[0m\u001b[0;34m\u001b[0m\u001b[0m\n\u001b[0m\u001b[1;32m      8\u001b[0m \u001b[0mprint\u001b[0m\u001b[0;34m(\u001b[0m\u001b[0mdf\u001b[0m\u001b[0;34m)\u001b[0m\u001b[0;34m\u001b[0m\u001b[0;34m\u001b[0m\u001b[0m\n",
      "\u001b[0;32m~/anaconda3/lib/python3.7/site-packages/pandas/core/frame.py\u001b[0m in \u001b[0;36m__init__\u001b[0;34m(self, data, index, columns, dtype, copy)\u001b[0m\n\u001b[1;32m    399\u001b[0m             \u001b[0mdata\u001b[0m \u001b[0;34m=\u001b[0m \u001b[0;34m{\u001b[0m\u001b[0;34m}\u001b[0m\u001b[0;34m\u001b[0m\u001b[0;34m\u001b[0m\u001b[0m\n\u001b[1;32m    400\u001b[0m         \u001b[0;32mif\u001b[0m \u001b[0mdtype\u001b[0m \u001b[0;32mis\u001b[0m \u001b[0;32mnot\u001b[0m \u001b[0;32mNone\u001b[0m\u001b[0;34m:\u001b[0m\u001b[0;34m\u001b[0m\u001b[0;34m\u001b[0m\u001b[0m\n\u001b[0;32m--> 401\u001b[0;31m             \u001b[0mdtype\u001b[0m \u001b[0;34m=\u001b[0m \u001b[0mself\u001b[0m\u001b[0;34m.\u001b[0m\u001b[0m_validate_dtype\u001b[0m\u001b[0;34m(\u001b[0m\u001b[0mdtype\u001b[0m\u001b[0;34m)\u001b[0m\u001b[0;34m\u001b[0m\u001b[0;34m\u001b[0m\u001b[0m\n\u001b[0m\u001b[1;32m    402\u001b[0m \u001b[0;34m\u001b[0m\u001b[0m\n\u001b[1;32m    403\u001b[0m         \u001b[0;32mif\u001b[0m \u001b[0misinstance\u001b[0m\u001b[0;34m(\u001b[0m\u001b[0mdata\u001b[0m\u001b[0;34m,\u001b[0m \u001b[0mDataFrame\u001b[0m\u001b[0;34m)\u001b[0m\u001b[0;34m:\u001b[0m\u001b[0;34m\u001b[0m\u001b[0;34m\u001b[0m\u001b[0m\n",
      "\u001b[0;32m~/anaconda3/lib/python3.7/site-packages/pandas/core/generic.py\u001b[0m in \u001b[0;36m_validate_dtype\u001b[0;34m(self, dtype)\u001b[0m\n\u001b[1;32m    229\u001b[0m \u001b[0;34m\u001b[0m\u001b[0m\n\u001b[1;32m    230\u001b[0m         \u001b[0;32mif\u001b[0m \u001b[0mdtype\u001b[0m \u001b[0;32mis\u001b[0m \u001b[0;32mnot\u001b[0m \u001b[0;32mNone\u001b[0m\u001b[0;34m:\u001b[0m\u001b[0;34m\u001b[0m\u001b[0;34m\u001b[0m\u001b[0m\n\u001b[0;32m--> 231\u001b[0;31m             \u001b[0mdtype\u001b[0m \u001b[0;34m=\u001b[0m \u001b[0mpandas_dtype\u001b[0m\u001b[0;34m(\u001b[0m\u001b[0mdtype\u001b[0m\u001b[0;34m)\u001b[0m\u001b[0;34m\u001b[0m\u001b[0;34m\u001b[0m\u001b[0m\n\u001b[0m\u001b[1;32m    232\u001b[0m \u001b[0;34m\u001b[0m\u001b[0m\n\u001b[1;32m    233\u001b[0m             \u001b[0;31m# a compound dtype\u001b[0m\u001b[0;34m\u001b[0m\u001b[0;34m\u001b[0m\u001b[0;34m\u001b[0m\u001b[0m\n",
      "\u001b[0;32m~/anaconda3/lib/python3.7/site-packages/pandas/core/dtypes/common.py\u001b[0m in \u001b[0;36mpandas_dtype\u001b[0;34m(dtype)\u001b[0m\n\u001b[1;32m   2052\u001b[0m         \u001b[0;31m# we don't want to force a repr of the non-string\u001b[0m\u001b[0;34m\u001b[0m\u001b[0;34m\u001b[0m\u001b[0;34m\u001b[0m\u001b[0m\n\u001b[1;32m   2053\u001b[0m         \u001b[0;32mif\u001b[0m \u001b[0;32mnot\u001b[0m \u001b[0misinstance\u001b[0m\u001b[0;34m(\u001b[0m\u001b[0mdtype\u001b[0m\u001b[0;34m,\u001b[0m \u001b[0mstr\u001b[0m\u001b[0;34m)\u001b[0m\u001b[0;34m:\u001b[0m\u001b[0;34m\u001b[0m\u001b[0;34m\u001b[0m\u001b[0m\n\u001b[0;32m-> 2054\u001b[0;31m             \u001b[0;32mraise\u001b[0m \u001b[0mTypeError\u001b[0m\u001b[0;34m(\u001b[0m\u001b[0;34m\"data type not understood\"\u001b[0m\u001b[0;34m)\u001b[0m\u001b[0;34m\u001b[0m\u001b[0;34m\u001b[0m\u001b[0m\n\u001b[0m\u001b[1;32m   2055\u001b[0m         \u001b[0;32mraise\u001b[0m \u001b[0mTypeError\u001b[0m\u001b[0;34m(\u001b[0m\u001b[0;34m\"data type '{}' not understood\"\u001b[0m\u001b[0;34m.\u001b[0m\u001b[0mformat\u001b[0m\u001b[0;34m(\u001b[0m\u001b[0mdtype\u001b[0m\u001b[0;34m)\u001b[0m\u001b[0;34m)\u001b[0m\u001b[0;34m\u001b[0m\u001b[0;34m\u001b[0m\u001b[0m\n\u001b[1;32m   2056\u001b[0m \u001b[0;34m\u001b[0m\u001b[0m\n",
      "\u001b[0;31mTypeError\u001b[0m: data type not understood"
     ]
    }
   ],
   "source": [
    "import pandas as pd\n",
    "\n",
    "d = [(1.0, \"hello\"), (2.0, \"world\"), (1.5, \"maybe\"), (2.0, \"meh\")]\n",
    "d = sorted(d, key=lambda x:x[0])\n",
    "print(d)\n",
    "\n",
    "df = pd.DataFrame(d, dtype={'ctime':'float64', 'data':'object'})\n",
    "print(df)"
   ]
  }
 ],
 "metadata": {
  "kernelspec": {
   "display_name": "Python 3",
   "language": "python",
   "name": "python3"
  },
  "language_info": {
   "codemirror_mode": {
    "name": "ipython",
    "version": 3
   },
   "file_extension": ".py",
   "mimetype": "text/x-python",
   "name": "python",
   "nbconvert_exporter": "python",
   "pygments_lexer": "ipython3",
   "version": "3.7.3"
  },
  "varInspector": {
   "cols": {
    "lenName": 16,
    "lenType": 16,
    "lenVar": 40
   },
   "kernels_config": {
    "python": {
     "delete_cmd_postfix": "",
     "delete_cmd_prefix": "del ",
     "library": "var_list.py",
     "varRefreshCmd": "print(var_dic_list())"
    },
    "r": {
     "delete_cmd_postfix": ") ",
     "delete_cmd_prefix": "rm(",
     "library": "var_list.r",
     "varRefreshCmd": "cat(var_dic_list()) "
    }
   },
   "types_to_exclude": [
    "module",
    "function",
    "builtin_function_or_method",
    "instance",
    "_Feature"
   ],
   "window_display": false
  }
 },
 "nbformat": 4,
 "nbformat_minor": 2
}
