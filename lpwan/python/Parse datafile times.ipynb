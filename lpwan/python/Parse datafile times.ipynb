{
 "cells": [
  {
   "cell_type": "code",
   "execution_count": 2,
   "metadata": {
    "ExecuteTime": {
     "end_time": "2020-06-18T01:35:40.554453Z",
     "start_time": "2020-06-18T01:35:40.528217Z"
    },
    "scrolled": false
   },
   "outputs": [
    {
     "name": "stdout",
     "output_type": "stream",
     "text": [
      "/media/adwait/44EE36CDEE36B6D0/workspace/sdr_data/data/outdoor_11june/eggtart\n",
      "/media/adwait/44EE36CDEE36B6D0/workspace/sdr_data/data/outdoor_11june/bananacream\n",
      "/media/adwait/44EE36CDEE36B6D0/workspace/sdr_data/data/outdoor_13june/eggtart\n",
      "/media/adwait/44EE36CDEE36B6D0/workspace/sdr_data/data/outdoor_13june/bananacream\n"
     ]
    }
   ],
   "source": [
    "import os\n",
    "import datetime\n",
    "import csv\n",
    "\n",
    "def ctime2utcstr(t):\n",
    "    dt = datetime.datetime.utcfromtimestamp(t)\n",
    "    return datetime.datetime.strftime(dt, \"%c\")\n",
    "\n",
    "def filename2ctime(filename):\n",
    "    dtstr = filename.split(\"_\",2)[2].split(\".\")[0]\n",
    "    dtobj = datetime.datetime.strptime(dtstr, \"%Y-%m-%d_%H-%M-%S\")\n",
    "    dtobjutc = dtobj.replace(tzinfo=datetime.timezone.utc)\n",
    "    return dtobjutc.timestamp()\n",
    "\n",
    "def fileModTime(filename):\n",
    "    return os.path.getmtime(filename)  # UTC time as a float\n",
    "\n",
    "def getWGScoord(fname):\n",
    "    with open(fname, 'r') as f:\n",
    "        # skip the first 11 lines\n",
    "        for _ in range(11):\n",
    "            f.readline()\n",
    "        # the last line is a string with coordinates\n",
    "        coords = f.readline()\n",
    "        f.close()\n",
    "    return coords\n",
    "\n",
    "# objective: create a list of (ctime, time string, location) for all files in a given directory\n",
    "def parseLocFiles(directory):\n",
    "    filenames = os.listdir(directory)\n",
    "    locs = []  # empty list to hold results\n",
    "    for filename in filenames:\n",
    "        fullpath = os.path.join(directory, filename)\n",
    "        coords = getWGScoord(fullpath)\n",
    "        t = fileModTime(fullpath)\n",
    "        tstr = ctime2utcstr(t)\n",
    "        locs.append((t, tstr, coords))        \n",
    "    return locs\n",
    "\n",
    "# objective: create a list of (ctime, time string, file) for all files in a given directory\n",
    "def captureTimeDataFiles(directory, basedir=None):\n",
    "    filenames = os.listdir(directory)\n",
    "    files = []\n",
    "    for filename in filenames:\n",
    "        fullpath = os.path.join(directory, filename)\n",
    "        tname = filename2ctime(filename)\n",
    "        tstr = ctime2utcstr(tname)\n",
    "        if basedir:\n",
    "            relpath = os.path.relpath(fullpath, basedir)\n",
    "            files.append((tname,tstr,relpath))\n",
    "        else:\n",
    "            files.append((tname,tstr,fullpath))\n",
    "    return files\n",
    "\n",
    "# print(\"locations:\")\n",
    "locationdir = \"/media/adwait/44EE36CDEE36B6D0/workspace/sdr_data/data/location_data_archive\"\n",
    "locations = parseLocFiles(locationdir)\n",
    "# print(*locations, sep=\"\\n\")\n",
    "# print()\n",
    "\n",
    "# make a list of all the directories\n",
    "\n",
    "basedir = \"/media/adwait/44EE36CDEE36B6D0/workspace/sdr_data/data\"\n",
    "devs = [\"eggtart\", \"bananacream\"]\n",
    "tests = [\"outdoor_11june\", \"outdoor_13june\"]\n",
    "\n",
    "datadirs = []\n",
    "\n",
    "for test in tests:\n",
    "    for dev in devs:\n",
    "        d = os.path.join(basedir, test, dev)\n",
    "        datadirs.append(d)\n",
    "\n",
    "datafiles = []\n",
    "for datadir in datadirs:\n",
    "    datafiles.extend(captureTimeDataFiles(datadir, basedir))\n",
    "# print(\"datafiles:\")\n",
    "# print(*datafiles, sep=\"\\n\")\n",
    "# print()\n",
    "\n",
    "# combine lists, then sort them\n",
    "combList = datafiles + locations\n",
    "combList = sorted(combList, key=lambda x:x[0])\n",
    "# print(*combList, sep=\"\\n\")\n",
    "\n",
    "with open(\"sdr_data_location.csv\", 'w') as f:\n",
    "    writer = csv.writer(f, quotechar=\"'\", quoting=csv.QUOTE_NONNUMERIC)\n",
    "    for entry in combList:\n",
    "        writer.writerow(entry)"
   ]
  }
 ],
 "metadata": {
  "kernelspec": {
   "display_name": "Python 3",
   "language": "python",
   "name": "python3"
  },
  "language_info": {
   "codemirror_mode": {
    "name": "ipython",
    "version": 3
   },
   "file_extension": ".py",
   "mimetype": "text/x-python",
   "name": "python",
   "nbconvert_exporter": "python",
   "pygments_lexer": "ipython3",
   "version": "3.7.3"
  },
  "varInspector": {
   "cols": {
    "lenName": 16,
    "lenType": 16,
    "lenVar": 40
   },
   "kernels_config": {
    "python": {
     "delete_cmd_postfix": "",
     "delete_cmd_prefix": "del ",
     "library": "var_list.py",
     "varRefreshCmd": "print(var_dic_list())"
    },
    "r": {
     "delete_cmd_postfix": ") ",
     "delete_cmd_prefix": "rm(",
     "library": "var_list.r",
     "varRefreshCmd": "cat(var_dic_list()) "
    }
   },
   "types_to_exclude": [
    "module",
    "function",
    "builtin_function_or_method",
    "instance",
    "_Feature"
   ],
   "window_display": false
  }
 },
 "nbformat": 4,
 "nbformat_minor": 2
}
