{
 "cells": [
  {
   "cell_type": "code",
   "execution_count": 1,
   "metadata": {
    "ExecuteTime": {
     "end_time": "2020-05-27T00:26:11.412119Z",
     "start_time": "2020-05-27T00:26:11.275363Z"
    }
   },
   "outputs": [],
   "source": [
    "# scrollable plots\n",
    "%matplotlib notebook\n",
    "\n",
    "# # simple plots\n",
    "# %matplotlib inline"
   ]
  },
  {
   "cell_type": "code",
   "execution_count": 8,
   "metadata": {
    "ExecuteTime": {
     "end_time": "2020-05-27T00:27:45.658775Z",
     "start_time": "2020-05-27T00:27:45.655631Z"
    }
   },
   "outputs": [],
   "source": [
    "import numpy as np\n",
    "import matplotlib.pyplot as plt\n",
    "import scipy.signal as sig\n",
    "import importlib\n",
    "\n",
    "try:\n",
    "    importlib.reload(mtools)\n",
    "except NameError:\n",
    "    import mixing_tools as mtools"
   ]
  },
  {
   "cell_type": "markdown",
   "metadata": {},
   "source": [
    "## Testing unit functions"
   ]
  },
  {
   "cell_type": "code",
   "execution_count": 24,
   "metadata": {
    "ExecuteTime": {
     "end_time": "2020-05-24T23:04:23.455212Z",
     "start_time": "2020-05-24T23:04:23.452329Z"
    },
    "deletable": false,
    "editable": false,
    "run_control": {
     "frozen": true
    }
   },
   "outputs": [],
   "source": [
    "# create samples for testing out import functions\n",
    "\n",
    "def create_sample_int16():\n",
    "    x = np.arange(1,10+1, dtype=np.int16)\n",
    "    x.tofile('test-int16.bin')\n",
    "create_sample_int16()\n",
    "\n",
    "def create_sample_float64():\n",
    "    x = np.arange(11,20+1, dtype=np.float64)\n",
    "    x.tofile('test-float64.bin')\n",
    "create_sample_float64()"
   ]
  },
  {
   "cell_type": "code",
   "execution_count": 16,
   "metadata": {
    "ExecuteTime": {
     "end_time": "2020-05-27T02:41:12.292211Z",
     "start_time": "2020-05-27T02:41:12.273101Z"
    },
    "deletable": false,
    "editable": false,
    "run_control": {
     "frozen": true
    },
    "scrolled": false
   },
   "outputs": [
    {
     "name": "stdout",
     "output_type": "stream",
     "text": [
      "ind, f1:\n",
      "(0, 0.0)\n",
      "(1, 2.0)\n",
      "(2, 4.0)\n",
      "(3, 6.0)\n",
      "(4, 8.0)\n",
      "(5, 10.0)\n",
      "(6, 12.0)\n",
      "(7, 14.0)\n",
      "(8, -16.0)\n",
      "(9, -14.0)\n",
      "(10, -12.0)\n",
      "(11, -10.0)\n",
      "(12, -8.0)\n",
      "(13, -6.0)\n",
      "(14, -4.0)\n",
      "(15, -2.0)\n",
      "fpos 7.0: floor index 3, 6.0\n",
      "fpos 7.0: ceil index 4, 8.0\n",
      "fpos 8.1: floor index 4, 8.0\n",
      "fpos 8.1: ceil index 5, 10.0\n",
      "fpos -7.0: floor index 12, -8.0\n",
      "fpos -7.0: ceil index 13, -6.0\n",
      "fpos -8.0: floor index 12, -8.0\n",
      "fpos -8.0: ceil index 12, -8.0\n",
      "\n",
      "ind, f1:\n",
      "(0, 0.0)\n",
      "(1, 1.7999999999999998)\n",
      "(2, 3.5999999999999996)\n",
      "(3, 5.3999999999999995)\n",
      "(4, 7.199999999999999)\n",
      "(5, 9.0)\n",
      "(6, 10.799999999999999)\n",
      "(7, 12.599999999999998)\n",
      "(8, -12.599999999999998)\n",
      "(9, -10.799999999999999)\n",
      "(10, -9.0)\n",
      "(11, -7.199999999999999)\n",
      "(12, -5.3999999999999995)\n",
      "(13, -3.5999999999999996)\n",
      "(14, -1.7999999999999998)\n",
      "fpos 7.0: floor index 3, 5.4\n",
      "fpos 7.0: ceil index 4, 7.2\n",
      "fpos 8.1: floor index 4, 7.2\n",
      "fpos 8.1: ceil index 5, 9.0\n",
      "fpos -7.0: floor index 11, -7.2\n",
      "fpos -7.0: ceil index 12, -5.4\n",
      "fpos -8.0: floor index 10, -9.0\n",
      "fpos -8.0: ceil index 11, -7.2\n",
      "\n",
      "ind, f1:\n",
      "(0, 31.0)\n",
      "(1, 33.0)\n",
      "(2, 35.0)\n",
      "(3, 37.0)\n",
      "(4, 39.0)\n",
      "(5, 41.0)\n",
      "(6, 43.0)\n",
      "(7, 45.0)\n",
      "(8, -47.0)\n",
      "(9, -45.0)\n",
      "(10, -43.0)\n",
      "(11, -41.0)\n",
      "(12, -39.0)\n",
      "(13, -37.0)\n",
      "(14, -35.0)\n",
      "(15, -33.0)\n",
      "fpos 7.0: floor index 19, 38.0\n",
      "fpos 7.0: ceil index 19, 38.0\n",
      "fpos 8.1: floor index 19, 38.0\n",
      "fpos 8.1: ceil index 20, 40.0\n",
      "fpos -7.0: floor index -3, -38.0\n",
      "fpos -7.0: ceil index -3, -38.0\n",
      "fpos -8.0: floor index -4, -40.0\n",
      "fpos -8.0: ceil index -3, -38.0\n"
     ]
    }
   ],
   "source": [
    "# testing out frequency <-> FFT index functions\n",
    "\n",
    "# sample 1: basic operation with even sized FFTs\n",
    "fs = 32\n",
    "ts = 1/fs\n",
    "n = 16\n",
    "f1 = np.fft.fftfreq(n, d=ts)\n",
    "print(\"ind, f1:\", *[(x,f) for x,f in enumerate(f1)], sep='\\n')\n",
    "\n",
    "print(\"fpos {}: floor index {}, {}\".format(7.0, *mtools.fpos2indFloor(7.0, n, ts, fout=True)))\n",
    "print(\"fpos {}: ceil index {}, {}\".format(7.0, *mtools.fpos2indCeil(7.0, n, ts, fout=True)))\n",
    "\n",
    "print(\"fpos {}: floor index {}, {}\".format(8.1, *mtools.fpos2indFloor(8.1, n, ts, fout=True)))\n",
    "print(\"fpos {}: ceil index {}, {}\".format(8.1, *mtools.fpos2indCeil(8.1, n, ts, fout=True)))\n",
    "\n",
    "print(\"fpos {}: floor index {}, {}\".format(-7.0, *mtools.fneg2indFloor(-7.0, n, ts, fout=True)))\n",
    "print(\"fpos {}: ceil index {}, {}\".format(-7.0, *mtools.fneg2indCeil(-7.0, n, ts, fout=True)))\n",
    "\n",
    "print(\"fpos {}: floor index {}, {}\".format(-8.0, *mtools.fneg2indFloor(-8.0, n, ts, fout=True)))\n",
    "print(\"fpos {}: ceil index {}, {}\".format(-8.0, *mtools.fneg2indCeil(-8.0, n, ts, fout=True)))\n",
    "print()\n",
    "\n",
    "# sample 2: test out working with FFTs with odd number of elements\n",
    "fs = 27\n",
    "ts = 1/fs\n",
    "n = 15\n",
    "f1 = np.fft.fftfreq(n, d=ts)\n",
    "print(\"ind, f1:\", *[(x,f) for x,f in enumerate(f1)], sep='\\n')\n",
    "\n",
    "print(\"fpos {}: floor index {}, {}\".format(7.0, *mtools.fpos2indFloor(7.0, n, ts, fout=True)))\n",
    "print(\"fpos {}: ceil index {}, {}\".format(7.0, *mtools.fpos2indCeil(7.0, n, ts, fout=True)))\n",
    "\n",
    "print(\"fpos {}: floor index {}, {}\".format(8.1, *mtools.fpos2indFloor(8.1, n, ts, fout=True)))\n",
    "print(\"fpos {}: ceil index {}, {}\".format(8.1, *mtools.fpos2indCeil(8.1, n, ts, fout=True)))\n",
    "\n",
    "print(\"fpos {}: floor index {}, {}\".format(-7.0, *mtools.fneg2indFloor(-7.0, n, ts, fout=True)))\n",
    "print(\"fpos {}: ceil index {}, {}\".format(-7.0, *mtools.fneg2indCeil(-7.0, n, ts, fout=True)))\n",
    "\n",
    "print(\"fpos {}: floor index {}, {}\".format(-8.0, *mtools.fneg2indFloor(-8.0, n, ts, fout=True)))\n",
    "print(\"fpos {}: ceil index {}, {}\".format(-8.0, *mtools.fneg2indCeil(-8.0, n, ts, fout=True)))\n",
    "print()\n",
    "\n",
    "# sample 3: test out center frequency offset\n",
    "fs = 32\n",
    "ts = 1/fs\n",
    "n = 16\n",
    "fc = 31\n",
    "f1 = np.fft.fftfreq(n, d=ts)\n",
    "f1[0:8] = f1[0:8] + fc\n",
    "f1[8:] = f1[8:] - fc\n",
    "print(\"ind, f1:\", *[(x,f) for x,f in enumerate(f1)], sep='\\n')\n",
    "\n",
    "print(\"fpos {}: floor index {}, {}\".format(7.0, *mtools.fpos2indFloor(7.0 + fc, n, ts, fout=True)))\n",
    "print(\"fpos {}: ceil index {}, {}\".format(7.0, *mtools.fpos2indCeil(7.0 + fc, n, ts, fout=True)))\n",
    "\n",
    "print(\"fpos {}: floor index {}, {}\".format(8.1, *mtools.fpos2indFloor(8.1 + fc, n, ts, fout=True)))\n",
    "print(\"fpos {}: ceil index {}, {}\".format(8.1, *mtools.fpos2indCeil(8.1 + fc, n, ts, fout=True)))\n",
    "\n",
    "print(\"fpos {}: floor index {}, {}\".format(-7.0, *mtools.fneg2indFloor(-7.0 -fc, n, ts, fout=True)))\n",
    "print(\"fpos {}: ceil index {}, {}\".format(-7.0, *mtools.fneg2indCeil(-7.0 - fc, n, ts, fout=True)))\n",
    "\n",
    "print(\"fpos {}: floor index {}, {}\".format(-8.0, *mtools.fneg2indFloor(-8.0 - fc, n, ts, fout=True)))\n",
    "print(\"fpos {}: ceil index {}, {}\".format(-8.0, *mtools.fneg2indCeil(-8.0 - fc, n, ts, fout=True)))"
   ]
  },
  {
   "cell_type": "code",
   "execution_count": 15,
   "metadata": {
    "ExecuteTime": {
     "end_time": "2020-05-27T02:37:29.861727Z",
     "start_time": "2020-05-27T02:37:29.850796Z"
    },
    "deletable": false,
    "editable": false,
    "run_control": {
     "frozen": true
    }
   },
   "outputs": [
    {
     "name": "stdout",
     "output_type": "stream",
     "text": [
      "ind, f1:\n",
      "(0, 0.0)\n",
      "(1, 2.0)\n",
      "(2, 4.0)\n",
      "(3, 6.0)\n",
      "(4, 8.0)\n",
      "(5, 10.0)\n",
      "(6, 12.0)\n",
      "(7, 14.0)\n",
      "(8, -16.0)\n",
      "(9, -14.0)\n",
      "(10, -12.0)\n",
      "(11, -10.0)\n",
      "(12, -8.0)\n",
      "(13, -6.0)\n",
      "(14, -4.0)\n",
      "(15, -2.0)\n",
      "size: 6\n",
      "[  4.   6.   8. -10.  -8.  -6.]\n",
      "\n",
      "ind, f1:\n",
      "(0, 0.0)\n",
      "(1, 1.7999999999999998)\n",
      "(2, 3.5999999999999996)\n",
      "(3, 5.3999999999999995)\n",
      "(4, 7.199999999999999)\n",
      "(5, 9.0)\n",
      "(6, 10.799999999999999)\n",
      "(7, 12.599999999999998)\n",
      "(8, -12.599999999999998)\n",
      "(9, -10.799999999999999)\n",
      "(10, -9.0)\n",
      "(11, -7.199999999999999)\n",
      "(12, -5.3999999999999995)\n",
      "(13, -3.5999999999999996)\n",
      "(14, -1.7999999999999998)\n",
      "size: 4\n",
      "[ 0.   1.8 -3.6 -1.8]\n",
      "\n"
     ]
    }
   ],
   "source": [
    "# sample 1: basic operation with even sized FFTs\n",
    "fs = 32\n",
    "ts = 1/fs\n",
    "n = 16\n",
    "f1 = np.fft.fftfreq(n, d=ts)\n",
    "print(\"ind, f1:\", *[(x,f) for x,f in enumerate(f1)], sep='\\n')\n",
    "fftShifted = mtools.fft_basebandShift(f1, 2, 5)\n",
    "print(\"size:\", fftShifted.size)\n",
    "print(fftShifted)\n",
    "print()\n",
    "\n",
    "# sample 2: off sized series\n",
    "fs = 27\n",
    "ts = 1/fs\n",
    "n = 15\n",
    "f1 = np.fft.fftfreq(n, d=ts)\n",
    "print(\"ind, f1:\", *[(x,f) for x,f in enumerate(f1)], sep='\\n')\n",
    "fftShifted = mtools.fft_basebandShift(f1, 0, 2)\n",
    "print(\"size:\", fftShifted.size)\n",
    "print(fftShifted)\n",
    "print()"
   ]
  },
  {
   "cell_type": "code",
   "execution_count": 19,
   "metadata": {
    "ExecuteTime": {
     "end_time": "2020-05-26T20:26:07.213750Z",
     "start_time": "2020-05-26T20:26:07.209771Z"
    }
   },
   "outputs": [
    {
     "name": "stdout",
     "output_type": "stream",
     "text": [
      "140625.0\n"
     ]
    }
   ],
   "source": [
    "# given a data series recorded at sampling intervals Ts and center frequency fcData,\n",
    "# return a new data series with only data in a certain bandwidth around or after fcSignal\n",
    "def basebandShift(data, Ts, bwSignal, fcSignal=0.0, fcData=0.0, signalType='ss'):\n",
    "    n = data.size\n",
    "    fdata = np.fft.fft(data)\n",
    "    if signalType == 'ss':\n",
    "        # signal is single sided\n",
    "        fStart = fcSignal\n",
    "        fEnd = fcSignal + bwSignal\n",
    "    elif signalType == 'ds':\n",
    "        # signal is double sided\n",
    "        fStart = fcSignal - bwSignal/2\n",
    "        fEnd = fcSignal + bwSignal/2\n",
    "    # TODO: check \n",
    "    indStart, f0 = mtools.fpos2indFloor(fStart, n, Ts, fcData=0, fout=True)\n",
    "    indEnd = mtools.fpos2indCeil(fEnd, n, Ts, fcData=0, fout=False)\n",
    "    dataShifted = mtools.fft_basebandShift(fdata, indStart, indEnd+1)\n",
    "    return dataShifted, f0, TsShifted"
   ]
  },
  {
   "cell_type": "code",
   "execution_count": 70,
   "metadata": {
    "ExecuteTime": {
     "end_time": "2020-05-25T02:38:42.279631Z",
     "start_time": "2020-05-25T02:38:42.272095Z"
    }
   },
   "outputs": [
    {
     "name": "stdout",
     "output_type": "stream",
     "text": [
      "[ 0.  1.  2.  3.  4.  5.  6.  7. -8. -7. -6. -5. -4. -3. -2. -1.]\n",
      "[ 5.  6.  7. -8. -7. -6.]\n",
      "\n",
      "[ 0.  1.  2.  3.  4.  5.  6.  7. -7. -6. -5. -4. -3. -2. -1.]\n",
      "[ 5.  6.  7.  7. -7. -6.]\n"
     ]
    }
   ],
   "source": [
    "def fft_basebandShift_singleSided(fftdata, indStart, nBuckets):\n",
    "    n = fftdata.size\n",
    "    # fbb = np.zeros(2*nBuckets)\n",
    "    # fbb[0:nBuckets] = fftdata[indStart:(indStart+nBuckets)]\n",
    "    # fbb[nBuckets:] = fftdata[(n-(indStart+nBuckets)):(n-indStart)]\n",
    "    fbb = np.concatenate((fftdata[indStart:(indStart+nBuckets)],\n",
    "                          fftdata[(n-(indStart+nBuckets)):(n-indStart)]))\n",
    "    return fbb\n",
    "\n",
    "f = np.fft.fftfreq(16, 1/16)\n",
    "print(f)\n",
    "print(fft_basebandShift_singleSided(f, 5, 3))\n",
    "print()\n",
    "\n",
    "f = np.fft.fftfreq(15, 1/15)\n",
    "print(f)\n",
    "print(fft_basebandShift_singleSided(f, 5, 3))"
   ]
  },
  {
   "cell_type": "code",
   "execution_count": 71,
   "metadata": {
    "ExecuteTime": {
     "end_time": "2020-05-25T02:49:40.961191Z",
     "start_time": "2020-05-25T02:49:40.958863Z"
    },
    "scrolled": true
   },
   "outputs": [
    {
     "name": "stdout",
     "output_type": "stream",
     "text": [
      "15\n"
     ]
    }
   ],
   "source": [
    "def fft_basebandShift_bucketCenter(fftdata, indCenter, nBuckets):\n",
    "    n = fftdata.size"
   ]
  },
  {
   "cell_type": "code",
   "execution_count": 30,
   "metadata": {
    "ExecuteTime": {
     "end_time": "2020-05-26T03:38:28.683932Z",
     "start_time": "2020-05-26T03:38:28.663588Z"
    }
   },
   "outputs": [
    {
     "name": "stdout",
     "output_type": "stream",
     "text": [
      "ind, f1:\n",
      "(0, 0.0)\n",
      "(1, 2.0)\n",
      "(2, 4.0)\n",
      "(3, 6.0)\n",
      "(4, 8.0)\n",
      "(5, 10.0)\n",
      "(6, 12.0)\n",
      "(7, 14.0)\n",
      "(8, -16.0)\n",
      "(9, -14.0)\n",
      "(10, -12.0)\n",
      "(11, -10.0)\n",
      "(12, -8.0)\n",
      "(13, -6.0)\n",
      "(14, -4.0)\n",
      "(15, -2.0)\n",
      "fpos 7.0: floor index 3\n",
      "fpos 7.0: ceil index 4\n",
      "fpos 8.1: floor index 4\n",
      "fpos 8.1: ceil index 5\n",
      "fpos -7.0: floor index 12\n",
      "fpos -7.0: ceil index 13\n",
      "fpos -8.0: floor index 12\n",
      "fpos -8.0: ceil index 12\n",
      "ind, f1:\n",
      "(0, 0.0)\n",
      "(1, 1.7999999999999998)\n",
      "(2, 3.5999999999999996)\n",
      "(3, 5.3999999999999995)\n",
      "(4, 7.199999999999999)\n",
      "(5, 9.0)\n",
      "(6, 10.799999999999999)\n",
      "(7, 12.599999999999998)\n",
      "(8, -12.599999999999998)\n",
      "(9, -10.799999999999999)\n",
      "(10, -9.0)\n",
      "(11, -7.199999999999999)\n",
      "(12, -5.3999999999999995)\n",
      "(13, -3.5999999999999996)\n",
      "(14, -1.7999999999999998)\n",
      "fpos 7.0: floor index 3\n",
      "fpos 7.0: ceil index 4\n",
      "fpos 8.1: floor index 4\n",
      "fpos 8.1: ceil index 5\n",
      "fpos -7.0: floor index 11\n",
      "fpos -7.0: ceil index 12\n",
      "fpos -8.0: floor index 10\n",
      "fpos -8.0: ceil index 11\n",
      "ind, f1:\n",
      "(0, 31.0)\n",
      "(1, 33.0)\n",
      "(2, 35.0)\n",
      "(3, 37.0)\n",
      "(4, 39.0)\n",
      "(5, 41.0)\n",
      "(6, 43.0)\n",
      "(7, 45.0)\n",
      "(8, -47.0)\n",
      "(9, -45.0)\n",
      "(10, -43.0)\n",
      "(11, -41.0)\n",
      "(12, -39.0)\n",
      "(13, -37.0)\n",
      "(14, -35.0)\n",
      "(15, -33.0)\n",
      "fpos 38.0: floor index 3\n",
      "fpos 38.0: ceil index 4\n",
      "fpos 39.1: floor index 4\n",
      "fpos 39.1: ceil index 5\n",
      "fpos -38.0: floor index 12\n",
      "fpos -38.0: ceil index 13\n",
      "fpos -39.0: floor index 12\n",
      "fpos -39.0: ceil index 12\n",
      "fStart: 5.5, fEnd: 8.5\n"
     ]
    }
   ],
   "source": [
    "# get relevant fft indices for a signal \n",
    "def fftIndices(n, fcData, TsData, fcSignal, bwSignal):\n",
    "    fBuckets = np.fft.fftfreq(n, TsData)\n",
    "    \n",
    "    fStart = fcSignal - bwSignal/2\n",
    "    fEnd = fcSignal + bwSignal/2\n",
    "    print(\"fStart: {}, fEnd: {}\".format(fStart, fEnd))\n",
    "    \n",
    "    \n",
    "    \n",
    "    ipStart = 0\n",
    "    ipEnd = 0\n",
    "    inStart = 0\n",
    "    inEnd = 0\n",
    "    return (ipStart, ipEnd, inStart, inEnd)\n",
    "\n",
    "(ipStart, ipEnd, inStart, inEnd) = fftIndices(f1.size, 0, ts, 7, 3)"
   ]
  }
 ],
 "metadata": {
  "kernelspec": {
   "display_name": "Python 3",
   "language": "python",
   "name": "python3"
  },
  "language_info": {
   "codemirror_mode": {
    "name": "ipython",
    "version": 3
   },
   "file_extension": ".py",
   "mimetype": "text/x-python",
   "name": "python",
   "nbconvert_exporter": "python",
   "pygments_lexer": "ipython3",
   "version": "3.7.3"
  },
  "varInspector": {
   "cols": {
    "lenName": 16,
    "lenType": 16,
    "lenVar": 40
   },
   "kernels_config": {
    "python": {
     "delete_cmd_postfix": "",
     "delete_cmd_prefix": "del ",
     "library": "var_list.py",
     "varRefreshCmd": "print(var_dic_list())"
    },
    "r": {
     "delete_cmd_postfix": ") ",
     "delete_cmd_prefix": "rm(",
     "library": "var_list.r",
     "varRefreshCmd": "cat(var_dic_list()) "
    }
   },
   "types_to_exclude": [
    "module",
    "function",
    "builtin_function_or_method",
    "instance",
    "_Feature"
   ],
   "window_display": false
  }
 },
 "nbformat": 4,
 "nbformat_minor": 2
}
