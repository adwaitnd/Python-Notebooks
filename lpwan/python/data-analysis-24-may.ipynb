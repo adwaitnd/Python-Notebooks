{
 "cells": [
  {
   "cell_type": "code",
   "execution_count": 1,
   "metadata": {
    "ExecuteTime": {
     "end_time": "2020-05-25T16:15:49.462116Z",
     "start_time": "2020-05-25T16:15:49.157169Z"
    }
   },
   "outputs": [],
   "source": [
    "%matplotlib notebook"
   ]
  },
  {
   "cell_type": "code",
   "execution_count": 3,
   "metadata": {
    "ExecuteTime": {
     "end_time": "2020-05-25T16:42:17.392790Z",
     "start_time": "2020-05-25T16:42:17.388343Z"
    }
   },
   "outputs": [],
   "source": [
    "import importlib\n",
    "try:\n",
    "    importlib.reload(mtools)\n",
    "except NameError:\n",
    "    import mixing_tools as mtools"
   ]
  },
  {
   "cell_type": "code",
   "execution_count": 5,
   "metadata": {
    "ExecuteTime": {
     "end_time": "2020-05-25T16:42:40.373338Z",
     "start_time": "2020-05-25T16:42:40.369792Z"
    }
   },
   "outputs": [],
   "source": [
    "mtools.matchedFilter(1, 2)"
   ]
  },
  {
   "cell_type": "code",
   "execution_count": 2,
   "metadata": {
    "ExecuteTime": {
     "end_time": "2020-05-24T21:02:50.594979Z",
     "start_time": "2020-05-24T21:02:50.469820Z"
    }
   },
   "outputs": [],
   "source": [
    "import numpy as np\n",
    "import matplotlib.pyplot as plt\n",
    "import scipy.signal as sig"
   ]
  },
  {
   "cell_type": "code",
   "execution_count": 24,
   "metadata": {
    "ExecuteTime": {
     "end_time": "2020-05-24T23:04:23.455212Z",
     "start_time": "2020-05-24T23:04:23.452329Z"
    }
   },
   "outputs": [],
   "source": [
    "def create_sample_int16():\n",
    "    x = np.arange(1,10+1, dtype=np.int16)\n",
    "    x.tofile('test-int16.bin')\n",
    "    \n",
    "# create_sample_int16()\n",
    "\n",
    "def create_sample_float64():\n",
    "    x = np.arange(11,20+1, dtype=np.float64)\n",
    "    x.tofile('test-float64.bin')\n",
    "    \n",
    "# create_sample_float64()"
   ]
  },
  {
   "cell_type": "code",
   "execution_count": 23,
   "metadata": {
    "ExecuteTime": {
     "end_time": "2020-05-24T22:41:06.446884Z",
     "start_time": "2020-05-24T22:41:06.441915Z"
    }
   },
   "outputs": [
    {
     "name": "stdout",
     "output_type": "stream",
     "text": [
      "[11.+12.j 13.+14.j 15.+16.j 17.+18.j 19.+20.j]\n",
      "[1. +2.j 3. +4.j 5. +6.j 7. +8.j 9.+10.j]\n"
     ]
    }
   ],
   "source": [
    "# data import functions\n",
    "\n",
    "def load_IQBinary_float32(file):\n",
    "    # I and Q are both 32 bit floats\n",
    "    return np.fromfile(file, dtype=np.complex64)\n",
    "\n",
    "def load_IQBinary_float64(file):\n",
    "    # I and Q are both 32 bit floats\n",
    "    return np.fromfile(file, dtype=np.complex128)\n",
    "\n",
    "def load_IQBinary_int8(file):\n",
    "    # I and Q are both 8 bit ints\n",
    "    x = np.fromfile(file, dtype=np.int8)\n",
    "    x = x[0::2] + 1j*x[1::2]\n",
    "    return x.astype('complex64')\n",
    "\n",
    "def load_IQBinary_int16(file):\n",
    "    # I and Q are both 16 bit ints\n",
    "    x = np.fromfile(file, dtype=np.int16)\n",
    "    x = x[0::2] + 1j*x[1::2]\n",
    "    return x.astype('complex64')\n",
    "\n",
    "xf = load_IQBinary_float64(\"test-float64.bin\")\n",
    "print(xf)\n",
    "xi = load_IQBinary_int16(\"test-int16.bin\")\n",
    "print(xi)"
   ]
  },
  {
   "cell_type": "code",
   "execution_count": 70,
   "metadata": {
    "ExecuteTime": {
     "end_time": "2020-05-25T02:38:42.279631Z",
     "start_time": "2020-05-25T02:38:42.272095Z"
    }
   },
   "outputs": [
    {
     "name": "stdout",
     "output_type": "stream",
     "text": [
      "[ 0.  1.  2.  3.  4.  5.  6.  7. -8. -7. -6. -5. -4. -3. -2. -1.]\n",
      "[ 5.  6.  7. -8. -7. -6.]\n",
      "\n",
      "[ 0.  1.  2.  3.  4.  5.  6.  7. -7. -6. -5. -4. -3. -2. -1.]\n",
      "[ 5.  6.  7.  7. -7. -6.]\n"
     ]
    }
   ],
   "source": [
    "def fft_basebandShift_singleSided(fftdata, indStart, nBuckets):\n",
    "    n = fftdata.size\n",
    "    # fbb = np.zeros(2*nBuckets)\n",
    "    # fbb[0:nBuckets] = fftdata[indStart:(indStart+nBuckets)]\n",
    "    # fbb[nBuckets:] = fftdata[(n-(indStart+nBuckets)):(n-indStart)]\n",
    "    fbb = np.concatenate((fftdata[indStart:(indStart+nBuckets)],\n",
    "                          fftdata[(n-(indStart+nBuckets)):(n-indStart)]))\n",
    "    return fbb\n",
    "\n",
    "f = np.fft.fftfreq(16, 1/16)\n",
    "print(f)\n",
    "print(fft_basebandShift_singleSided(f, 5, 3))\n",
    "print()\n",
    "\n",
    "f = np.fft.fftfreq(15, 1/15)\n",
    "print(f)\n",
    "print(fft_basebandShift_singleSided(f, 5, 3))"
   ]
  },
  {
   "cell_type": "code",
   "execution_count": 71,
   "metadata": {
    "ExecuteTime": {
     "end_time": "2020-05-25T02:49:40.961191Z",
     "start_time": "2020-05-25T02:49:40.958863Z"
    },
    "scrolled": true
   },
   "outputs": [
    {
     "name": "stdout",
     "output_type": "stream",
     "text": [
      "15\n"
     ]
    }
   ],
   "source": [
    "def fft_basebandShift_bucketCenter(fftdata, indCenter, nBuckets):\n",
    "    n = fftdata.size"
   ]
  },
  {
   "cell_type": "code",
   "execution_count": null,
   "metadata": {},
   "outputs": [],
   "source": [
    "import numpy as np\n",
    "import scipy.signal as sig\n",
    "\n"
   ]
  },
  {
   "cell_type": "code",
   "execution_count": 30,
   "metadata": {
    "ExecuteTime": {
     "end_time": "2020-05-26T03:38:28.683932Z",
     "start_time": "2020-05-26T03:38:28.663588Z"
    }
   },
   "outputs": [
    {
     "name": "stdout",
     "output_type": "stream",
     "text": [
      "ind, f1:\n",
      "(0, 0.0)\n",
      "(1, 2.0)\n",
      "(2, 4.0)\n",
      "(3, 6.0)\n",
      "(4, 8.0)\n",
      "(5, 10.0)\n",
      "(6, 12.0)\n",
      "(7, 14.0)\n",
      "(8, -16.0)\n",
      "(9, -14.0)\n",
      "(10, -12.0)\n",
      "(11, -10.0)\n",
      "(12, -8.0)\n",
      "(13, -6.0)\n",
      "(14, -4.0)\n",
      "(15, -2.0)\n",
      "fpos 7.0: floor index 3\n",
      "fpos 7.0: ceil index 4\n",
      "fpos 8.1: floor index 4\n",
      "fpos 8.1: ceil index 5\n",
      "fpos -7.0: floor index 12\n",
      "fpos -7.0: ceil index 13\n",
      "fpos -8.0: floor index 12\n",
      "fpos -8.0: ceil index 12\n",
      "ind, f1:\n",
      "(0, 0.0)\n",
      "(1, 1.7999999999999998)\n",
      "(2, 3.5999999999999996)\n",
      "(3, 5.3999999999999995)\n",
      "(4, 7.199999999999999)\n",
      "(5, 9.0)\n",
      "(6, 10.799999999999999)\n",
      "(7, 12.599999999999998)\n",
      "(8, -12.599999999999998)\n",
      "(9, -10.799999999999999)\n",
      "(10, -9.0)\n",
      "(11, -7.199999999999999)\n",
      "(12, -5.3999999999999995)\n",
      "(13, -3.5999999999999996)\n",
      "(14, -1.7999999999999998)\n",
      "fpos 7.0: floor index 3\n",
      "fpos 7.0: ceil index 4\n",
      "fpos 8.1: floor index 4\n",
      "fpos 8.1: ceil index 5\n",
      "fpos -7.0: floor index 11\n",
      "fpos -7.0: ceil index 12\n",
      "fpos -8.0: floor index 10\n",
      "fpos -8.0: ceil index 11\n",
      "ind, f1:\n",
      "(0, 31.0)\n",
      "(1, 33.0)\n",
      "(2, 35.0)\n",
      "(3, 37.0)\n",
      "(4, 39.0)\n",
      "(5, 41.0)\n",
      "(6, 43.0)\n",
      "(7, 45.0)\n",
      "(8, -47.0)\n",
      "(9, -45.0)\n",
      "(10, -43.0)\n",
      "(11, -41.0)\n",
      "(12, -39.0)\n",
      "(13, -37.0)\n",
      "(14, -35.0)\n",
      "(15, -33.0)\n",
      "fpos 38.0: floor index 3\n",
      "fpos 38.0: ceil index 4\n",
      "fpos 39.1: floor index 4\n",
      "fpos 39.1: ceil index 5\n",
      "fpos -38.0: floor index 12\n",
      "fpos -38.0: ceil index 13\n",
      "fpos -39.0: floor index 12\n",
      "fpos -39.0: ceil index 12\n",
      "fStart: 5.5, fEnd: 8.5\n"
     ]
    }
   ],
   "source": [
    "import numpy as np\n",
    "\n",
    "# TODO: add use of fc\n",
    "def fpos2indFloor(f, n, Ts, fc=0):\n",
    "    return int(np.floor(np.round(n*(f-fc)*Ts, 3)))\n",
    "\n",
    "\n",
    "def fpos2indCeil(f, n, Ts, fc=0):\n",
    "    return int(np.ceil(np.round(n*(f-fc)*Ts, 3)))\n",
    "\n",
    "\n",
    "def fneg2indFloor(f, n, Ts, fc=0):\n",
    "    return int(n + np.floor(np.round(n*(f+fc)*Ts, 3)))\n",
    "\n",
    "\n",
    "def fneg2indCeil(f, n, Ts, fc=0):\n",
    "    return int(n + np.ceil(np.round(n*(f+fc)*Ts, 3)))\n",
    "\n",
    "\n",
    "# sample 1\n",
    "fs = 32\n",
    "ts = 1/fs\n",
    "f1 = np.fft.fftfreq(16, d=ts)\n",
    "print(\"ind, f1:\", *[(x,f) for x,f in enumerate(f1)], sep='\\n')\n",
    "\n",
    "print(\"fpos {}: floor index {}\".format(7.0, fpos2indFloor(7.0, 16, ts)))\n",
    "print(\"fpos {}: ceil index {}\".format(7.0, fpos2indCeil(7.0, 16, ts)))\n",
    "\n",
    "print(\"fpos {}: floor index {}\".format(8.1, fpos2indFloor(8.1, 16, ts)))\n",
    "print(\"fpos {}: ceil index {}\".format(8.1, fpos2indCeil(8.1, 16, ts)))\n",
    "\n",
    "print(\"fpos {}: floor index {}\".format(-7.0, fneg2indFloor(-7.0, 16, ts)))\n",
    "print(\"fpos {}: ceil index {}\".format(-7.0, fneg2indCeil(-7.0, 16, ts)))\n",
    "\n",
    "print(\"fpos {}: floor index {}\".format(-8.0, fneg2indFloor(-8.0, 16, ts)))\n",
    "print(\"fpos {}: ceil index {}\".format(-8.0, fneg2indCeil(-8.0, 16, ts)))\n",
    "\n",
    "# sample 2\n",
    "fs = 27\n",
    "ts = 1/fs\n",
    "f1 = np.fft.fftfreq(15, d=ts)\n",
    "print(\"ind, f1:\", *[(x,f) for x,f in enumerate(f1)], sep='\\n')\n",
    "\n",
    "print(\"fpos {}: floor index {}\".format(7.0, fpos2indFloor(7.0, 15, ts)))\n",
    "print(\"fpos {}: ceil index {}\".format(7.0, fpos2indCeil(7.0, 15, ts)))\n",
    "\n",
    "print(\"fpos {}: floor index {}\".format(8.1, fpos2indFloor(8.1, 15, ts)))\n",
    "print(\"fpos {}: ceil index {}\".format(8.1, fpos2indCeil(8.1, 15, ts)))\n",
    "\n",
    "print(\"fpos {}: floor index {}\".format(-7.0, fneg2indFloor(-7.0, 15, ts)))\n",
    "print(\"fpos {}: ceil index {}\".format(-7.0, fneg2indCeil(-7.0, 15, ts)))\n",
    "\n",
    "print(\"fpos {}: floor index {}\".format(-8.0, fneg2indFloor(-8.0, 15, ts)))\n",
    "print(\"fpos {}: ceil index {}\".format(-8.0, fneg2indCeil(-8.0, 15, ts)))\n",
    "\n",
    "\n",
    "# sample 3\n",
    "fs = 32\n",
    "ts = 1/fs\n",
    "fc = 31\n",
    "f1 = np.fft.fftfreq(16, d=ts)\n",
    "f1[0:8] = f1[0:8] + fc\n",
    "f1[8:] = f1[8:] - fc\n",
    "print(\"ind, f1:\", *[(x,f) for x,f in enumerate(f1)], sep='\\n')\n",
    "\n",
    "print(\"fpos {}: floor index {}\".format(7.0+fc, fpos2indFloor(7.0+fc, 16, ts, fc)))\n",
    "print(\"fpos {}: ceil index {}\".format(7.0+fc, fpos2indCeil(7.0+fc, 16, ts, fc)))\n",
    "\n",
    "print(\"fpos {}: floor index {}\".format(8.1+fc, fpos2indFloor(8.1+fc, 16, ts, fc)))\n",
    "print(\"fpos {}: ceil index {}\".format(8.1+fc, fpos2indCeil(8.1+fc, 16, ts, fc)))\n",
    "\n",
    "print(\"fpos {}: floor index {}\".format(-7.0-fc, fneg2indFloor(-7.0-fc, 16, ts, fc)))\n",
    "print(\"fpos {}: ceil index {}\".format(-7.0-fc, fneg2indCeil(-7.0-fc, 16, ts, fc)))\n",
    "\n",
    "print(\"fpos {}: floor index {}\".format(-8.0-fc, fneg2indFloor(-8.0-fc, 16, ts, fc)))\n",
    "print(\"fpos {}: ceil index {}\".format(-8.0-fc, fneg2indCeil(-8.0-fc, 16, ts, fc)))\n",
    "\n",
    "# get relevant fft indices for a signal \n",
    "def fftIndices(n, fcData, TsData, fcSignal, bwSignal):\n",
    "    fBuckets = np.fft.fftfreq(n, TsData)\n",
    "    \n",
    "    fStart = fcSignal - bwSignal/2\n",
    "    fEnd = fcSignal + bwSignal/2\n",
    "    print(\"fStart: {}, fEnd: {}\".format(fStart, fEnd))\n",
    "    \n",
    "    \n",
    "    \n",
    "    ipStart = 0\n",
    "    ipEnd = 0\n",
    "    inStart = 0\n",
    "    inEnd = 0\n",
    "    return (ipStart, ipEnd, inStart, inEnd)\n",
    "\n",
    "(ipStart, ipEnd, inStart, inEnd) = fftIndices(f1.size, 0, ts, 7, 3)"
   ]
  },
  {
   "cell_type": "code",
   "execution_count": 24,
   "metadata": {
    "ExecuteTime": {
     "end_time": "2020-05-26T02:50:47.212977Z",
     "start_time": "2020-05-26T02:50:47.210210Z"
    }
   },
   "outputs": [
    {
     "data": {
      "text/plain": [
       "2.0"
      ]
     },
     "execution_count": 24,
     "metadata": {},
     "output_type": "execute_result"
    }
   ],
   "source": [
    "np.round(2.001, 2)"
   ]
  }
 ],
 "metadata": {
  "kernelspec": {
   "display_name": "Python 3",
   "language": "python",
   "name": "python3"
  },
  "language_info": {
   "codemirror_mode": {
    "name": "ipython",
    "version": 3
   },
   "file_extension": ".py",
   "mimetype": "text/x-python",
   "name": "python",
   "nbconvert_exporter": "python",
   "pygments_lexer": "ipython3",
   "version": "3.7.3"
  },
  "varInspector": {
   "cols": {
    "lenName": 16,
    "lenType": 16,
    "lenVar": 40
   },
   "kernels_config": {
    "python": {
     "delete_cmd_postfix": "",
     "delete_cmd_prefix": "del ",
     "library": "var_list.py",
     "varRefreshCmd": "print(var_dic_list())"
    },
    "r": {
     "delete_cmd_postfix": ") ",
     "delete_cmd_prefix": "rm(",
     "library": "var_list.r",
     "varRefreshCmd": "cat(var_dic_list()) "
    }
   },
   "types_to_exclude": [
    "module",
    "function",
    "builtin_function_or_method",
    "instance",
    "_Feature"
   ],
   "window_display": false
  }
 },
 "nbformat": 4,
 "nbformat_minor": 2
}
