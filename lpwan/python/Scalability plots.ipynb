{
 "cells": [
  {
   "cell_type": "code",
   "execution_count": 57,
   "metadata": {
    "ExecuteTime": {
     "end_time": "2020-06-27T15:45:36.334116Z",
     "start_time": "2020-06-27T15:45:36.329244Z"
    }
   },
   "outputs": [],
   "source": [
    "%matplotlib notebook\n",
    "import numpy as np\n",
    "import matplotlib.pyplot as plt\n",
    "import math"
   ]
  },
  {
   "cell_type": "code",
   "execution_count": 51,
   "metadata": {
    "ExecuteTime": {
     "end_time": "2020-06-27T14:44:38.536599Z",
     "start_time": "2020-06-27T14:44:38.523340Z"
    },
    "scrolled": false
   },
   "outputs": [
    {
     "name": "stdout",
     "output_type": "stream",
     "text": [
      "PL0 (dBm) =  105.5729\n",
      "{7: -126.5, 8: -127.25, 9: -131.25, 10: -132.75, 11: -134.5, 12: -133.25}\n",
      "125 kHz:\n",
      "(7, 886.787311183723)\n",
      "(8, 1159.1124963776126)\n",
      "(9, 1515.0665354754824)\n",
      "(10, 1980.3311706941358)\n",
      "(11, 2588.474798825937)\n",
      "(12, 3383.374398842821)\n",
      "500 kHz:\n",
      "(7, 478.9778161766544)\n",
      "(8, 626.0680156518346)\n",
      "(9, 818.328421451703)\n",
      "(10, 1069.6304372910895)\n",
      "(11, 1398.1052623711798)\n",
      "(12, 1827.4520399965345)\n"
     ]
    }
   ],
   "source": [
    "# log shadow model parameters\n",
    "gamma = 2.1495\n",
    "d0 = 40.0 # from drive tests\n",
    "var = 100.0724  # from drive test \n",
    "# Lpld0 = 127.41\n",
    "# Lpld0 = 98.0729\n",
    "Lpld0 = 98.0729 + 7.5 # from drive test\n",
    "print(\"PL0 (dBm) = \", Lpld0)\n",
    "GL = 0\n",
    "\n",
    "sensi125 = {\n",
    "    7:-126.5,\n",
    "    8:-127.25,\n",
    "    9:-131.25,\n",
    "    10:-132.75,\n",
    "    11:-134.5,\n",
    "    12:-133.25\n",
    "}\n",
    "\n",
    "bestVal = -134.5\n",
    "sensi125_ideal = {\n",
    "    7:bestVal+10,\n",
    "    8:bestVal+7.5,\n",
    "    9:bestVal+5.0,\n",
    "    10:bestVal+2.5,\n",
    "    11:bestVal,\n",
    "    12:bestVal-2.5\n",
    "}\n",
    "\n",
    "bestVal = -128.75\n",
    "sensi500_ideal = {\n",
    "    7:bestVal+10,\n",
    "    8:bestVal+7.5,\n",
    "    9:bestVal+5.0,\n",
    "    10:bestVal+2.5,\n",
    "    11:bestVal,\n",
    "    12:bestVal-2.5\n",
    "}\n",
    "\n",
    "print(sensi125)\n",
    "# plt.figure()\n",
    "# plt.plot(list(sensi125.keys()), list(sensi125.values()), \"b.-\")\n",
    "# plt.plot(list(sensi125_ideal.keys()), list(sensi125_ideal.values()), \"r.--\")\n",
    "# plt.grid()\n",
    "# plt.show()\n",
    "# sf7 = np.array([7,-126.5,-124.25,-120.75])\n",
    "# sf8 = np.array([8,-127.25,-126.75,-124.0])\n",
    "# sf9 = np.array([9,-131.25,-128.25,-127.5])\n",
    "# sf10 = np.array([10,-132.75,-130.25,-128.75])\n",
    "# sf11 = np.array([11,-134.5,-132.75,-128.75])\n",
    "# sf12 = np.array([12,-133.25,-132.25,-132.25])\n",
    "\n",
    "# # array of sensitivity values\n",
    "# sensi = np.array([sf7,sf8,sf9,sf10,sf11,sf12])\n",
    "\n",
    "def maxDist(PTX, sensi):\n",
    "    dmax = d0*(10**((PTX-sensi-Lpld0)/(10*gamma)))\n",
    "    return dmax\n",
    "\n",
    "Ptx = 10  # in dBm\n",
    "ranges125 = {}\n",
    "for sf, sensi in sensi125_ideal.items():\n",
    "    ranges125[sf] = maxDist(Ptx, sensi)\n",
    "\n",
    "ranges500 = {}\n",
    "for sf, sensi in sensi500_ideal.items():\n",
    "    ranges500[sf] = maxDist(Ptx, sensi)\n",
    "\n",
    "print(\"125 kHz:\")\n",
    "print(*ranges125.items(), sep=\"\\n\")\n",
    "print(\"500 kHz:\")\n",
    "print(*ranges500.items(), sep=\"\\n\")"
   ]
  },
  {
   "cell_type": "code",
   "execution_count": 73,
   "metadata": {
    "ExecuteTime": {
     "end_time": "2020-06-27T16:09:46.539050Z",
     "start_time": "2020-06-27T16:09:46.516764Z"
    },
    "scrolled": false
   },
   "outputs": [
    {
     "name": "stdout",
     "output_type": "stream",
     "text": [
      "time 1, rate 1.0:\n",
      "SF7, ... SF12, total\n",
      "71, 39, 22, 11, 6, 3, 152\n",
      "\n",
      "time 10, rate 0.1:\n",
      "SF7, ... SF12, total\n",
      "707, 389, 216, 108, 61, 30, 1511\n",
      "\n",
      "time 60, rate 0.016666666666666666:\n",
      "SF7, ... SF12, total\n",
      "4242, 2332, 1295, 647, 364, 182, 9062\n",
      "\n",
      "time 300, rate 0.0033333333333333335:\n",
      "SF7, ... SF12, total\n",
      "21210, 11660, 6474, 3237, 1820, 910, 45311\n",
      "\n",
      "time 900, rate 0.0011111111111111111:\n",
      "SF7, ... SF12, total\n",
      "63631, 34981, 19423, 9712, 5459, 2730, 135936\n",
      "\n",
      "time 3600, rate 0.0002777777777777778:\n",
      "SF7, ... SF12, total\n",
      "254525, 139925, 77693, 38847, 21836, 10918, 543744\n",
      "\n"
     ]
    }
   ],
   "source": [
    "# get table of supported devices\n",
    "# what varies? SF and update rate\n",
    "def loraSymboltime(bw, sf):\n",
    "    return (2**sf)/bw\n",
    "\n",
    "def airtime(sf,cr,pl,bw):\n",
    "    H = 0        # implicit header disabled (H=0) or not (H=1)\n",
    "    DE = 0       # low data rate optimization enabled (=1) or not (=0)\n",
    "    Npream = 8   # number of preamble symbol (12.25  from Utz paper)\n",
    "\n",
    "    if bw == 125 and sf in [11, 12]:\n",
    "        # low data rate optimization mandated for BW125 with SF11 and SF12\n",
    "        DE = 1\n",
    "    if sf == 6:\n",
    "        # can only have implicit header with SF6\n",
    "        H = 1\n",
    "\n",
    "    Tsym = (2.0**sf)/bw\n",
    "    Tpream = (Npream + 4.25)*Tsym\n",
    "    payloadSymbNB = 8 + max(np.ceil((8.0*pl-4.0*sf+28+16-20*H)/(4.0*(sf-2*DE)))*(cr+4),0)\n",
    "    Tpayload = payloadSymbNB * Tsym\n",
    "    return Tpream + Tpayload\n",
    "\n",
    "def getMaxDev(rate, sfList, G=0.5, pl=20, bw=125e3, nCh=8):\n",
    "    nmax = []\n",
    "    for s in sfList:\n",
    "        tPacket = airtime(sf=s, cr=1, pl=pl, bw=bw)\n",
    "        n = G*nCh/(tPacket*rate)\n",
    "        nmax.append(n)\n",
    "    return nmax\n",
    "\n",
    "sf = [7,8,9,10,11,12]\n",
    "bw = 125e3  # in Hz\n",
    "nCh = 8  # number of channels\n",
    "packetLen = 20\n",
    "times = [1, 10, 60, (60*5), (60*15), 3600]\n",
    "\n",
    "for t in times:\n",
    "    r = 1.0/t\n",
    "    print(\"time {}, rate {}:\".format(t, r))\n",
    "    print(\"SF7, ... SF12, total\")\n",
    "    nmax = getMaxDev(r, sf, bw=bw, nCh=nCh, pl=packetLen)\n",
    "    nmaxInt = np.array(np.round(nmax), dtype=int)\n",
    "    tot = np.sum(nmaxInt)\n",
    "    print(*nmaxInt, tot, sep=\", \")\n",
    "    print()"
   ]
  },
  {
   "cell_type": "code",
   "execution_count": 74,
   "metadata": {
    "ExecuteTime": {
     "end_time": "2020-06-27T18:55:31.742371Z",
     "start_time": "2020-06-27T18:55:31.735902Z"
    }
   },
   "outputs": [
    {
     "name": "stdout",
     "output_type": "stream",
     "text": [
      "0.7498942093324559\n"
     ]
    }
   ],
   "source": [
    "print(10**(-2.5/(10*2)))"
   ]
  }
 ],
 "metadata": {
  "kernelspec": {
   "display_name": "Python 3",
   "language": "python",
   "name": "python3"
  },
  "language_info": {
   "codemirror_mode": {
    "name": "ipython",
    "version": 3
   },
   "file_extension": ".py",
   "mimetype": "text/x-python",
   "name": "python",
   "nbconvert_exporter": "python",
   "pygments_lexer": "ipython3",
   "version": "3.7.3"
  },
  "varInspector": {
   "cols": {
    "lenName": 16,
    "lenType": 16,
    "lenVar": 40
   },
   "kernels_config": {
    "python": {
     "delete_cmd_postfix": "",
     "delete_cmd_prefix": "del ",
     "library": "var_list.py",
     "varRefreshCmd": "print(var_dic_list())"
    },
    "r": {
     "delete_cmd_postfix": ") ",
     "delete_cmd_prefix": "rm(",
     "library": "var_list.r",
     "varRefreshCmd": "cat(var_dic_list()) "
    }
   },
   "types_to_exclude": [
    "module",
    "function",
    "builtin_function_or_method",
    "instance",
    "_Feature"
   ],
   "window_display": false
  }
 },
 "nbformat": 4,
 "nbformat_minor": 2
}
