{
 "cells": [
  {
   "cell_type": "code",
   "execution_count": 1,
   "metadata": {
    "ExecuteTime": {
     "end_time": "2020-05-31T05:05:28.778368Z",
     "start_time": "2020-05-31T05:05:28.769865Z"
    }
   },
   "outputs": [],
   "source": [
    "import importlib\n",
    "import numpy\n",
    "import sqlite3\n",
    "\n",
    "try:\n",
    "    importlib.reload(wi_parser)\n",
    "except NameError:\n",
    "    import wi_parser"
   ]
  },
  {
   "cell_type": "code",
   "execution_count": null,
   "metadata": {
    "ExecuteTime": {
     "end_time": "2020-05-30T00:38:38.892650Z",
     "start_time": "2020-05-30T00:38:38.745483Z"
    },
    "deletable": false,
    "editable": false,
    "run_control": {
     "frozen": true
    }
   },
   "outputs": [],
   "source": [
    "# test loading a particular entry from the CIR file\n",
    "rxID = 25\n",
    "cirData25 = wi_parser.loadEntryCIR(\"data/simple_walk/lora multifreq rosslyn.cir.t002_05.r009.p2m\", rxID)\n",
    "print(\"{} paths found for rxID {}\".format(len(cirData25), rxID))\n",
    "\n",
    "# test loading all entries from CIR file\n",
    "cirData = wi_parser.loadAllCIR(\"data/simple_walk/lora multifreq rosslyn.cir.t002_05.r009.p2m\", 9)\n",
    "# get rid of entries without CIR data\n",
    "cirData = {rxid:cir for rxid,cir in cirData.items() if len(cir) > 0}\n",
    "print(\"{} RX entries found\".format(len(cirData)))"
   ]
  },
  {
   "cell_type": "code",
   "execution_count": 10,
   "metadata": {
    "ExecuteTime": {
     "end_time": "2020-05-31T05:13:05.994567Z",
     "start_time": "2020-05-31T05:13:05.989551Z"
    }
   },
   "outputs": [],
   "source": [
    "# project and data parameters\n",
    "project=\"lora multifreq rosslyn\"\n",
    "studyarea=\"simple walk\"\n",
    "projectdir=\"data\"\n",
    "txset = 3\n",
    "txID = 2\n",
    "rxset = 9"
   ]
  },
  {
   "cell_type": "code",
   "execution_count": 3,
   "metadata": {
    "ExecuteTime": {
     "end_time": "2020-05-31T05:05:34.952620Z",
     "start_time": "2020-05-31T05:05:34.912849Z"
    },
    "scrolled": false
   },
   "outputs": [
    {
     "name": "stdout",
     "output_type": "stream",
     "text": [
      "using SQL file: data/simple walk/lora multifreq rosslyn.simple walk.sqlite\n",
      "# of TX entries: 5\n",
      "# of RX entries: 1849\n",
      "# of distance entries: 9245\n",
      "# of ToA entries: 9245\n"
     ]
    }
   ],
   "source": [
    "# get transmitter and reciever positions from SQL file\n",
    "sqlfile = wi_parser.sqlfilename(project=project,\n",
    "                         studyarea=studyarea,\n",
    "                         projectdir=projectdir)\n",
    "print(\"using SQL file:\", sqlfile)\n",
    "\n",
    "txpos = wi_parser.parsePos(sqlfile, devType=\"txset\", setid=txset)\n",
    "print(\"# of TX entries:\", len(txpos))\n",
    "rxpos = wi_parser.parsePos(sqlfile, devType=\"rxset\", setid=rxset)\n",
    "print(\"# of RX entries:\", len(rxpos))\n",
    "\n",
    "# find line of sight distances between sets of transmitters and receivers\n",
    "distances = wi_parser.computeDistancesLOS(txpos, rxpos)\n",
    "print(\"# of distance entries:\", len(distances))\n",
    "\n",
    "# find ideal time of arrival between tx and rx devices\n",
    "toa = wi_parser.computeToaLOS(distances)\n",
    "print(\"# of ToA entries:\", len(toa))"
   ]
  },
  {
   "cell_type": "code",
   "execution_count": 11,
   "metadata": {
    "ExecuteTime": {
     "end_time": "2020-05-31T05:13:09.737279Z",
     "start_time": "2020-05-31T05:13:09.693962Z"
    }
   },
   "outputs": [
    {
     "name": "stdout",
     "output_type": "stream",
     "text": [
      "using output file: data/simple walk/lora multifreq rosslyn.cir.t002_03.r009.p2m\n",
      "# of (non empty) CIR entries: 701\n"
     ]
    }
   ],
   "source": [
    "# parse CIR entries\n",
    "cirfile = wi_parser.outputfilename(project=project,\n",
    "                                   studyarea=studyarea,\n",
    "                                   output=\"cir\",\n",
    "                                   txset=txset,\n",
    "                                   txn=txID, \n",
    "                                   rxset=rxset, \n",
    "                                   projectdir=projectdir)\n",
    "print(\"using output file:\", cirfile)\n",
    "cir = wi_parser.loadAllCIR(cirfile, rxset, txset, txID)\n",
    "# remove any entries which have zero paths\n",
    "cir = {linkid:cirentry for linkid,cirentry in cir.items() if len(cirentry) > 0}\n",
    "print(\"# of (non empty) CIR entries:\", len(cir))"
   ]
  },
  {
   "cell_type": "code",
   "execution_count": 12,
   "metadata": {
    "ExecuteTime": {
     "end_time": "2020-05-31T05:13:11.983205Z",
     "start_time": "2020-05-31T05:13:11.980580Z"
    }
   },
   "outputs": [
    {
     "name": "stdout",
     "output_type": "stream",
     "text": [
      "common keys: 701\n"
     ]
    }
   ],
   "source": [
    "# double check to make sure we're indexing things correctly\n",
    "print(\"common keys:\", len(cir.keys() & toa.keys()))"
   ]
  },
  {
   "cell_type": "code",
   "execution_count": 17,
   "metadata": {
    "ExecuteTime": {
     "end_time": "2020-05-31T05:19:25.478919Z",
     "start_time": "2020-05-31T05:19:25.475745Z"
    }
   },
   "outputs": [
    {
     "name": "stdout",
     "output_type": "stream",
     "text": [
      "key: ((3, 2), (9, 343))\n",
      "cir:\n",
      "(1.0158e-06, (-1.3398742693201454e-13-6.273008049135774e-14j))\n",
      "(1.03684e-06, (5.1397705158917125e-14-1.786096459165768e-14j))\n",
      "(9.77003e-07, (-1.3575625987955785e-14+1.3846042853596742e-14j))\n",
      "(1.01726e-06, (1.7458199212276029e-16-1.8983733820752155e-14j))\n",
      "(1.03858e-06, (9.721597549028112e-15+3.4927472133035916e-15j))\n",
      "(9.83786e-07, (3.1454616682085937e-15-1.537373479128762e-15j))\n",
      "(9.79107e-07, (-1.8937075975035083e-15+2.857069667430739e-15j))\n",
      "(9.85896e-07, (4.897886157676064e-16-3.789956389212342e-16j))\n"
     ]
    }
   ],
   "source": [
    "for i, key in enumerate(cir):\n",
    "#     print(key)\n",
    "    if i > 20:\n",
    "        break\n",
    "\n",
    "print(\"key:\", key)\n",
    "print(\"cir:\", *cir[key], sep='\\n')"
   ]
  }
 ],
 "metadata": {
  "kernelspec": {
   "display_name": "Python 3",
   "language": "python",
   "name": "python3"
  },
  "language_info": {
   "codemirror_mode": {
    "name": "ipython",
    "version": 3
   },
   "file_extension": ".py",
   "mimetype": "text/x-python",
   "name": "python",
   "nbconvert_exporter": "python",
   "pygments_lexer": "ipython3",
   "version": "3.7.3"
  },
  "varInspector": {
   "cols": {
    "lenName": 16,
    "lenType": 16,
    "lenVar": 40
   },
   "kernels_config": {
    "python": {
     "delete_cmd_postfix": "",
     "delete_cmd_prefix": "del ",
     "library": "var_list.py",
     "varRefreshCmd": "print(var_dic_list())"
    },
    "r": {
     "delete_cmd_postfix": ") ",
     "delete_cmd_prefix": "rm(",
     "library": "var_list.r",
     "varRefreshCmd": "cat(var_dic_list()) "
    }
   },
   "types_to_exclude": [
    "module",
    "function",
    "builtin_function_or_method",
    "instance",
    "_Feature"
   ],
   "window_display": false
  }
 },
 "nbformat": 4,
 "nbformat_minor": 2
}
