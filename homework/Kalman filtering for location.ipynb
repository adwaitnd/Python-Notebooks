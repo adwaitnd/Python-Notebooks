{
 "cells": [
  {
   "cell_type": "markdown",
   "metadata": {},
   "source": [
    "# Simulate a Kalman filter for fixed position receivers\n",
    "\n",
    "This needs a 5 state model"
   ]
  },
  {
   "cell_type": "code",
   "execution_count": 1,
   "metadata": {},
   "outputs": [],
   "source": [
    "import numpy as np\n",
    "import scipy.constants as const"
   ]
  },
  {
   "cell_type": "code",
   "execution_count": 18,
   "metadata": {},
   "outputs": [
    {
     "name": "stdout",
     "output_type": "stream",
     "text": [
      "measurements with noise:\n",
      "[[2.13956184e+07 5.13749953e+07 8.13543807e+07 1.11333767e+08\n",
      "  1.41313137e+08 1.71292518e+08 2.01271909e+08 2.31251285e+08\n",
      "  2.61230658e+08 2.91210045e+08]\n",
      " [2.18869073e+07 5.18662880e+07 8.18456730e+07 1.11825041e+08\n",
      "  1.41804423e+08 1.71783810e+08 2.01763188e+08 2.31742577e+08\n",
      "  2.61721950e+08 2.91701328e+08]\n",
      " [2.20906074e+07 5.20699780e+07 8.20493604e+07 1.12028732e+08\n",
      "  1.42008118e+08 1.71987503e+08 2.01966876e+08 2.31946266e+08\n",
      "  2.61925641e+08 2.91905023e+08]\n",
      " [2.26625667e+07 5.26419621e+07 8.26213316e+07 1.12600706e+08\n",
      "  1.42580098e+08 1.72559466e+08 2.02538856e+08 2.32518223e+08\n",
      "  2.62497608e+08 2.92476998e+08]\n",
      " [2.17022719e+07 5.16816492e+07 8.16610281e+07 1.11640408e+08\n",
      "  1.41619781e+08 1.71599167e+08 2.01578549e+08 2.31557939e+08\n",
      "  2.61537315e+08 2.91516683e+08]\n",
      " [2.34566098e+07 5.34359862e+07 8.34153652e+07 1.13394754e+08\n",
      "  1.43374137e+08 1.73353517e+08 2.03332887e+08 2.33312271e+08\n",
      "  2.63291655e+08 2.93271040e+08]\n",
      " [2.39379025e+07 5.39172849e+07 8.38966601e+07 1.13876040e+08\n",
      "  1.43855433e+08 1.73834817e+08 2.03814189e+08 2.33793576e+08\n",
      "  2.63772953e+08 2.93752328e+08]]\n"
     ]
    }
   ],
   "source": [
    "# first generate a scenario generator\n",
    "\n",
    "# A bunch of satellites/beacons\n",
    "# have a device with unknown time and frequency\n",
    "# generate a series of readings\n",
    "\n",
    "# use satellites positions from old example\n",
    "\n",
    "satellitePositions = np.array([\n",
    "        [22808160.9, -12005866.6, -6609526.5],\n",
    "        [21141179.5, -2355056.3, -15985716.1],\n",
    "        [20438959.3, -4238967.1, 16502090.2],\n",
    "        [18432296.2, -18613382.5, -4672400.8],\n",
    "        [21772117.8, 13773269.7, 6656636.4],\n",
    "        [15561523.9, 3469098.6, -21303596.2],\n",
    "        [13773316.6, 15929331.4, -16266254.4]\n",
    "    ])\n",
    "\n",
    "def generateMeasurement(time, truePos, clockParams, almanac):\n",
    "    distance = np.linalg.norm(almanac - truePos, axis = 1)\n",
    "    measurement = distance[:,None] + time[None,:]*clockParams[1]\n",
    "    return measurement\n",
    "\n",
    "def noisyMeasurement(time, truePos, clockParams, almanac, sigma):\n",
    "    measurement = generateMeasurement(time, truePos, clockParams, almanac)\n",
    "    noise = np.random.normal(0, sigma, size = (almanac.shape[0], time.shape[0]))\n",
    "    return measurement + noise\n",
    "\n",
    "# ground truth: we don't know this but would want to estimate it\n",
    "xTrue = np.array([6378137.0, 0.0, 0.0])\n",
    "startClockBias = 85000.0\n",
    "clockFreqOffset = 4.5e-6 # a +4.5 ppm clock offset\n",
    "clockFreq = const.c*(1+clockFreqOffset)\n",
    "measurementNoiseSigma = 6\n",
    "startingClockParams = np.array([startClockBias, clockFreq]) \n",
    "\n",
    "np.random.seed(42)\n",
    "\n",
    "measurements = noisyMeasurement(np.arange(0, 1, 0.1), xTrue, startingClockParams, satellitePositions, measurementNoiseSigma)\n",
    "print(\"measurements with noise:\")\n",
    "print(measurements)"
   ]
  },
  {
   "cell_type": "code",
   "execution_count": 23,
   "metadata": {},
   "outputs": [
    {
     "name": "stdout",
     "output_type": "stream",
     "text": [
      "initial state:  [ 1.91325077e+07 -5.77367543e+05 -5.95410963e+06  0.00000000e+00\n",
      "  2.99792458e+08]\n",
      "\n",
      "innovation:  [ 9372699.10533523 11502877.84330543  -699632.56600937  4567514.59634515\n",
      "  2416545.37122554  7186005.86102337  3750471.49356441]\n"
     ]
    }
   ],
   "source": [
    "# These would be the Kalman filter matrices\n",
    "\n",
    "# NOTE: this should probably be a class object\n",
    "\n",
    "def estimatePseudorange(state, almanac):\n",
    "    \"\"\"\n",
    "    Given a 5D state (x,y,z,time offset, freq) and an almanac/constellation,\n",
    "    the function returns a corresponding pseudorange\n",
    "    \"\"\"\n",
    "    # TODO: check if pseudorange has a frequency bias component?\n",
    "    return np.linalg.norm(almanac - state[0:3], axis = 1) + state[3]\n",
    "    \n",
    "    \n",
    "def _G(prevState, almanac):\n",
    "    \"\"\"\n",
    "    Given a previous state and almanac, it returns a measurement connection matrix \n",
    "    (G in Kalman filtering literature). Basically, this is an estimate of what our\n",
    "    measurements should be at a given state\n",
    "    \"\"\"\n",
    "    nSatellites = almanac.shape[0]\n",
    "    losVectors = almanac - prevState[0:3]\n",
    "    norm = np.linalg.norm(losVectors, axis = 1)\n",
    "    losNormalized = np.divide(-losVectors, norm[:,None])\n",
    "    G = np.concatenate(-losNormalized, np.ones((nSatellites, 1)), axis=1)\n",
    "    return G\n",
    "\n",
    "def _kalmanGain(P, G, R):\n",
    "    PdotGT = np.dot(P, G.T)\n",
    "    A = np.linalg.inv(np.dot(G, PdotGT) + R)\n",
    "    K = np.dot(PdotGT, A)\n",
    "    return K\n",
    "\n",
    "def _innovation(measurement, x, almanac):\n",
    "    return measurement - estimatePseudorange(x, almanac)\n",
    "\n",
    "def _stateEstimate(x, K, innovation):\n",
    "    # estimate update\n",
    "    xNew = x + np.dot(K, innovation)\n",
    "    return newState\n",
    "\n",
    "def _errorCovarUpdate():\n",
    "    raise NotImplementedError\n",
    "    \n",
    "def _project():\n",
    "    raise NotImplementedError\n",
    "    \n",
    "\n",
    "centroid = np.mean(satellitePositions, axis =0)\n",
    "xInit = np.append(centroid, (0.0, const.c))\n",
    "print(\"initial state: \", xInit)\n",
    "print()\n",
    "\n",
    "G = _G(xInit, satellitePositions)\n",
    "innovation = _innovation(measurements[:,0], xInit, satellitePositions)\n",
    "print(\"innovation: \", innovation)"
   ]
  }
 ],
 "metadata": {
  "kernelspec": {
   "display_name": "Python 3",
   "language": "python",
   "name": "python3"
  },
  "language_info": {
   "codemirror_mode": {
    "name": "ipython",
    "version": 3
   },
   "file_extension": ".py",
   "mimetype": "text/x-python",
   "name": "python",
   "nbconvert_exporter": "python",
   "pygments_lexer": "ipython3",
   "version": "3.7.3"
  }
 },
 "nbformat": 4,
 "nbformat_minor": 2
}
