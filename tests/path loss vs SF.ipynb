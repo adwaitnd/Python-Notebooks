{
 "cells": [
  {
   "cell_type": "code",
   "execution_count": 1,
   "metadata": {
    "ExecuteTime": {
     "end_time": "2020-06-24T05:02:38.109530Z",
     "start_time": "2020-06-24T05:02:37.723715Z"
    }
   },
   "outputs": [
    {
     "name": "stdout",
     "output_type": "stream",
     "text": [
      "[ 2.5  5.   7.5 10.  12.5 15.  17.5 20. ]\n",
      "[[  2.5          1.33352143   5.58662953]\n",
      " [  5.           1.77827941   9.93458827]\n",
      " [  7.5          2.37137371  17.66647376]\n",
      " [ 10.           3.16227766  31.41592654]\n",
      " [ 12.5          4.21696503  55.86629531]\n",
      " [ 15.           5.62341325  99.34588266]\n",
      " [ 17.5          7.49894209 176.6647376 ]\n",
      " [ 20.          10.         314.15926536]]\n"
     ]
    },
    {
     "data": {
      "text/plain": [
       "<Figure size 640x480 with 1 Axes>"
      ]
     },
     "metadata": {},
     "output_type": "display_data"
    },
    {
     "data": {
      "text/plain": [
       "<Figure size 640x480 with 1 Axes>"
      ]
     },
     "metadata": {},
     "output_type": "display_data"
    },
    {
     "name": "stdout",
     "output_type": "stream",
     "text": [
      "ratios:\n",
      "1.333521432163324\n",
      "1.333521432163324\n",
      "1.3335214321633242\n",
      "1.333521432163324\n",
      "1.3335214321633242\n",
      "1.333521432163324\n",
      "1.333521432163324\n"
     ]
    }
   ],
   "source": [
    "import numpy as np\n",
    "import matplotlib.pyplot as plt\n",
    "\n",
    "# every SF increase improves receiver sensitivity by 2.5 dB\n",
    "# a 20 dB increase in power increases range to 10x\n",
    "dSF = np.arange(2.5, 22.5, 2.5)\n",
    "print(dSF)\n",
    "\n",
    "gamma = 2.0  # assume free space\n",
    "D = 10**(dSF/(10*gamma))\n",
    "totalArea = np.pi*(D**2)\n",
    "entries = np.array([dSF, D, totalArea]).T\n",
    "print(entries, sep='\\n')\n",
    "\n",
    "plt.figure()\n",
    "plt.plot(dSF, D, 'C0.-')\n",
    "plt.grid()\n",
    "\n",
    "plt.figure()\n",
    "plt.plot(dSF, totalArea, 'C0.-')\n",
    "plt.grid()\n",
    "\n",
    "plt.show()\n",
    "\n",
    "print(\"ratios:\")\n",
    "print(*np.divide(D[1:], D[:-1]), sep='\\n')"
   ]
  },
  {
   "cell_type": "code",
   "execution_count": 18,
   "metadata": {
    "ExecuteTime": {
     "end_time": "2020-06-22T23:06:20.895990Z",
     "start_time": "2020-06-22T23:06:20.737110Z"
    }
   },
   "outputs": [
    {
     "data": {
      "image/png": "[encoded data removed]",
      "text/plain": [
       "<Figure size 432x288 with 1 Axes>"
      ]
     },
     "metadata": {
      "needs_background": "light"
     },
     "output_type": "display_data"
    }
   ],
   "source": [
    "lam = np.log(2)  # 2 is factor by which each SF increases frame time and reduces total capacity\n",
    "x = np.arange(1, 10, 0.1)\n",
    "density = np.divide(lam*np.exp(-lam*x), 2*np.pi*x)\n",
    "\n",
    "plt.figure()\n",
    "plt.plot(x, density, 'C0.-')\n",
    "plt.grid()\n",
    "\n",
    "plt.show()"
   ]
  },
  {
   "cell_type": "code",
   "execution_count": 4,
   "metadata": {
    "ExecuteTime": {
     "end_time": "2020-06-24T05:16:22.960032Z",
     "start_time": "2020-06-24T05:16:22.771610Z"
    }
   },
   "outputs": [
    {
     "data": {
      "image/png": "[encoded data removed]",
      "text/plain": [
       "<Figure size 432x288 with 1 Axes>"
      ]
     },
     "metadata": {
      "needs_background": "light"
     },
     "output_type": "display_data"
    }
   ],
   "source": [
    "lam = np.log(2)  # 2 is factor by which each SF increases frame time and reduces total capacity\n",
    "sf = np.arange(0, 6, 0.1)\n",
    "dist = lam*np.exp(-lam*sf)\n",
    "\n",
    "plt.figure()\n",
    "plt.plot(sf, dist)\n",
    "plt.grid()\n",
    "\n",
    "plt.show()"
   ]
  },
  {
   "cell_type": "code",
   "execution_count": 3,
   "metadata": {
    "ExecuteTime": {
     "end_time": "2020-06-24T05:08:03.792781Z",
     "start_time": "2020-06-24T05:08:03.787975Z"
    }
   },
   "outputs": [
    {
     "name": "stdout",
     "output_type": "stream",
     "text": [
      "2.718281828459045\n"
     ]
    }
   ],
   "source": [
    "print(np.exp(1))"
   ]
  }
 ],
 "metadata": {
  "kernelspec": {
   "display_name": "Python 3",
   "language": "python",
   "name": "python3"
  },
  "language_info": {
   "codemirror_mode": {
    "name": "ipython",
    "version": 3
   },
   "file_extension": ".py",
   "mimetype": "text/x-python",
   "name": "python",
   "nbconvert_exporter": "python",
   "pygments_lexer": "ipython3",
   "version": "3.7.3"
  },
  "varInspector": {
   "cols": {
    "lenName": 16,
    "lenType": 16,
    "lenVar": 40
   },
   "kernels_config": {
    "python": {
     "delete_cmd_postfix": "",
     "delete_cmd_prefix": "del ",
     "library": "var_list.py",
     "varRefreshCmd": "print(var_dic_list())"
    },
    "r": {
     "delete_cmd_postfix": ") ",
     "delete_cmd_prefix": "rm(",
     "library": "var_list.r",
     "varRefreshCmd": "cat(var_dic_list()) "
    }
   },
   "types_to_exclude": [
    "module",
    "function",
    "builtin_function_or_method",
    "instance",
    "_Feature"
   ],
   "window_display": false
  }
 },
 "nbformat": 4,
 "nbformat_minor": 2
}
